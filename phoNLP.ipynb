{
  "nbformat": 4,
  "nbformat_minor": 0,
  "metadata": {
    "colab": {
      "provenance": [],
      "gpuType": "T4",
      "include_colab_link": true
    },
    "kernelspec": {
      "name": "python3",
      "display_name": "Python 3"
    },
    "language_info": {
      "name": "python"
    },
    "accelerator": "GPU",
    "widgets": {
      "application/vnd.jupyter.widget-state+json": {
        "81f58cd35be14a25b024f80fe0d2f8e3": {
          "model_module": "@jupyter-widgets/controls",
          "model_name": "HBoxModel",
          "model_module_version": "1.5.0",
          "state": {
            "_dom_classes": [],
            "_model_module": "@jupyter-widgets/controls",
            "_model_module_version": "1.5.0",
            "_model_name": "HBoxModel",
            "_view_count": null,
            "_view_module": "@jupyter-widgets/controls",
            "_view_module_version": "1.5.0",
            "_view_name": "HBoxView",
            "box_style": "",
            "children": [
              "IPY_MODEL_cb760bf6eb0c4d06a77f900e9e872805",
              "IPY_MODEL_c9377e15e6a74b14b4b06c627fa32f41",
              "IPY_MODEL_3bdf562a80be46b1904c572f106b4d6f"
            ],
            "layout": "IPY_MODEL_166fa96c05124fd29315b2b33110b857"
          }
        },
        "cb760bf6eb0c4d06a77f900e9e872805": {
          "model_module": "@jupyter-widgets/controls",
          "model_name": "HTMLModel",
          "model_module_version": "1.5.0",
          "state": {
            "_dom_classes": [],
            "_model_module": "@jupyter-widgets/controls",
            "_model_module_version": "1.5.0",
            "_model_name": "HTMLModel",
            "_view_count": null,
            "_view_module": "@jupyter-widgets/controls",
            "_view_module_version": "1.5.0",
            "_view_name": "HTMLView",
            "description": "",
            "description_tooltip": null,
            "layout": "IPY_MODEL_e23d09d077734a53931ecfb44e51911a",
            "placeholder": "​",
            "style": "IPY_MODEL_7dba9ddda5d54d839016ba237ecdf1c0",
            "value": "config.json: 100%"
          }
        },
        "c9377e15e6a74b14b4b06c627fa32f41": {
          "model_module": "@jupyter-widgets/controls",
          "model_name": "FloatProgressModel",
          "model_module_version": "1.5.0",
          "state": {
            "_dom_classes": [],
            "_model_module": "@jupyter-widgets/controls",
            "_model_module_version": "1.5.0",
            "_model_name": "FloatProgressModel",
            "_view_count": null,
            "_view_module": "@jupyter-widgets/controls",
            "_view_module_version": "1.5.0",
            "_view_name": "ProgressView",
            "bar_style": "success",
            "description": "",
            "description_tooltip": null,
            "layout": "IPY_MODEL_433450b94ab241f8beae0356efe5fa2e",
            "max": 557,
            "min": 0,
            "orientation": "horizontal",
            "style": "IPY_MODEL_803c014302964e05a6112c15db86f052",
            "value": 557
          }
        },
        "3bdf562a80be46b1904c572f106b4d6f": {
          "model_module": "@jupyter-widgets/controls",
          "model_name": "HTMLModel",
          "model_module_version": "1.5.0",
          "state": {
            "_dom_classes": [],
            "_model_module": "@jupyter-widgets/controls",
            "_model_module_version": "1.5.0",
            "_model_name": "HTMLModel",
            "_view_count": null,
            "_view_module": "@jupyter-widgets/controls",
            "_view_module_version": "1.5.0",
            "_view_name": "HTMLView",
            "description": "",
            "description_tooltip": null,
            "layout": "IPY_MODEL_7ecca74b9cc446a7ba4c3b0e2b5c334a",
            "placeholder": "​",
            "style": "IPY_MODEL_259ea71cd3f04c0797b2abc2eebb4181",
            "value": " 557/557 [00:00&lt;00:00, 31.8kB/s]"
          }
        },
        "166fa96c05124fd29315b2b33110b857": {
          "model_module": "@jupyter-widgets/base",
          "model_name": "LayoutModel",
          "model_module_version": "1.2.0",
          "state": {
            "_model_module": "@jupyter-widgets/base",
            "_model_module_version": "1.2.0",
            "_model_name": "LayoutModel",
            "_view_count": null,
            "_view_module": "@jupyter-widgets/base",
            "_view_module_version": "1.2.0",
            "_view_name": "LayoutView",
            "align_content": null,
            "align_items": null,
            "align_self": null,
            "border": null,
            "bottom": null,
            "display": null,
            "flex": null,
            "flex_flow": null,
            "grid_area": null,
            "grid_auto_columns": null,
            "grid_auto_flow": null,
            "grid_auto_rows": null,
            "grid_column": null,
            "grid_gap": null,
            "grid_row": null,
            "grid_template_areas": null,
            "grid_template_columns": null,
            "grid_template_rows": null,
            "height": null,
            "justify_content": null,
            "justify_items": null,
            "left": null,
            "margin": null,
            "max_height": null,
            "max_width": null,
            "min_height": null,
            "min_width": null,
            "object_fit": null,
            "object_position": null,
            "order": null,
            "overflow": null,
            "overflow_x": null,
            "overflow_y": null,
            "padding": null,
            "right": null,
            "top": null,
            "visibility": null,
            "width": null
          }
        },
        "e23d09d077734a53931ecfb44e51911a": {
          "model_module": "@jupyter-widgets/base",
          "model_name": "LayoutModel",
          "model_module_version": "1.2.0",
          "state": {
            "_model_module": "@jupyter-widgets/base",
            "_model_module_version": "1.2.0",
            "_model_name": "LayoutModel",
            "_view_count": null,
            "_view_module": "@jupyter-widgets/base",
            "_view_module_version": "1.2.0",
            "_view_name": "LayoutView",
            "align_content": null,
            "align_items": null,
            "align_self": null,
            "border": null,
            "bottom": null,
            "display": null,
            "flex": null,
            "flex_flow": null,
            "grid_area": null,
            "grid_auto_columns": null,
            "grid_auto_flow": null,
            "grid_auto_rows": null,
            "grid_column": null,
            "grid_gap": null,
            "grid_row": null,
            "grid_template_areas": null,
            "grid_template_columns": null,
            "grid_template_rows": null,
            "height": null,
            "justify_content": null,
            "justify_items": null,
            "left": null,
            "margin": null,
            "max_height": null,
            "max_width": null,
            "min_height": null,
            "min_width": null,
            "object_fit": null,
            "object_position": null,
            "order": null,
            "overflow": null,
            "overflow_x": null,
            "overflow_y": null,
            "padding": null,
            "right": null,
            "top": null,
            "visibility": null,
            "width": null
          }
        },
        "7dba9ddda5d54d839016ba237ecdf1c0": {
          "model_module": "@jupyter-widgets/controls",
          "model_name": "DescriptionStyleModel",
          "model_module_version": "1.5.0",
          "state": {
            "_model_module": "@jupyter-widgets/controls",
            "_model_module_version": "1.5.0",
            "_model_name": "DescriptionStyleModel",
            "_view_count": null,
            "_view_module": "@jupyter-widgets/base",
            "_view_module_version": "1.2.0",
            "_view_name": "StyleView",
            "description_width": ""
          }
        },
        "433450b94ab241f8beae0356efe5fa2e": {
          "model_module": "@jupyter-widgets/base",
          "model_name": "LayoutModel",
          "model_module_version": "1.2.0",
          "state": {
            "_model_module": "@jupyter-widgets/base",
            "_model_module_version": "1.2.0",
            "_model_name": "LayoutModel",
            "_view_count": null,
            "_view_module": "@jupyter-widgets/base",
            "_view_module_version": "1.2.0",
            "_view_name": "LayoutView",
            "align_content": null,
            "align_items": null,
            "align_self": null,
            "border": null,
            "bottom": null,
            "display": null,
            "flex": null,
            "flex_flow": null,
            "grid_area": null,
            "grid_auto_columns": null,
            "grid_auto_flow": null,
            "grid_auto_rows": null,
            "grid_column": null,
            "grid_gap": null,
            "grid_row": null,
            "grid_template_areas": null,
            "grid_template_columns": null,
            "grid_template_rows": null,
            "height": null,
            "justify_content": null,
            "justify_items": null,
            "left": null,
            "margin": null,
            "max_height": null,
            "max_width": null,
            "min_height": null,
            "min_width": null,
            "object_fit": null,
            "object_position": null,
            "order": null,
            "overflow": null,
            "overflow_x": null,
            "overflow_y": null,
            "padding": null,
            "right": null,
            "top": null,
            "visibility": null,
            "width": null
          }
        },
        "803c014302964e05a6112c15db86f052": {
          "model_module": "@jupyter-widgets/controls",
          "model_name": "ProgressStyleModel",
          "model_module_version": "1.5.0",
          "state": {
            "_model_module": "@jupyter-widgets/controls",
            "_model_module_version": "1.5.0",
            "_model_name": "ProgressStyleModel",
            "_view_count": null,
            "_view_module": "@jupyter-widgets/base",
            "_view_module_version": "1.2.0",
            "_view_name": "StyleView",
            "bar_color": null,
            "description_width": ""
          }
        },
        "7ecca74b9cc446a7ba4c3b0e2b5c334a": {
          "model_module": "@jupyter-widgets/base",
          "model_name": "LayoutModel",
          "model_module_version": "1.2.0",
          "state": {
            "_model_module": "@jupyter-widgets/base",
            "_model_module_version": "1.2.0",
            "_model_name": "LayoutModel",
            "_view_count": null,
            "_view_module": "@jupyter-widgets/base",
            "_view_module_version": "1.2.0",
            "_view_name": "LayoutView",
            "align_content": null,
            "align_items": null,
            "align_self": null,
            "border": null,
            "bottom": null,
            "display": null,
            "flex": null,
            "flex_flow": null,
            "grid_area": null,
            "grid_auto_columns": null,
            "grid_auto_flow": null,
            "grid_auto_rows": null,
            "grid_column": null,
            "grid_gap": null,
            "grid_row": null,
            "grid_template_areas": null,
            "grid_template_columns": null,
            "grid_template_rows": null,
            "height": null,
            "justify_content": null,
            "justify_items": null,
            "left": null,
            "margin": null,
            "max_height": null,
            "max_width": null,
            "min_height": null,
            "min_width": null,
            "object_fit": null,
            "object_position": null,
            "order": null,
            "overflow": null,
            "overflow_x": null,
            "overflow_y": null,
            "padding": null,
            "right": null,
            "top": null,
            "visibility": null,
            "width": null
          }
        },
        "259ea71cd3f04c0797b2abc2eebb4181": {
          "model_module": "@jupyter-widgets/controls",
          "model_name": "DescriptionStyleModel",
          "model_module_version": "1.5.0",
          "state": {
            "_model_module": "@jupyter-widgets/controls",
            "_model_module_version": "1.5.0",
            "_model_name": "DescriptionStyleModel",
            "_view_count": null,
            "_view_module": "@jupyter-widgets/base",
            "_view_module_version": "1.2.0",
            "_view_name": "StyleView",
            "description_width": ""
          }
        },
        "0280f42bda5b4500a192ca3cd9f6e433": {
          "model_module": "@jupyter-widgets/controls",
          "model_name": "HBoxModel",
          "model_module_version": "1.5.0",
          "state": {
            "_dom_classes": [],
            "_model_module": "@jupyter-widgets/controls",
            "_model_module_version": "1.5.0",
            "_model_name": "HBoxModel",
            "_view_count": null,
            "_view_module": "@jupyter-widgets/controls",
            "_view_module_version": "1.5.0",
            "_view_name": "HBoxView",
            "box_style": "",
            "children": [
              "IPY_MODEL_f80dd22bb7824509b23ee1e23f8043d3",
              "IPY_MODEL_ac7f5428b1d74713af96860c68310e76",
              "IPY_MODEL_67e64b347ae7492581135a56ee1cb346"
            ],
            "layout": "IPY_MODEL_6ff622d0602947ca91e8f0e37dfa21e1"
          }
        },
        "f80dd22bb7824509b23ee1e23f8043d3": {
          "model_module": "@jupyter-widgets/controls",
          "model_name": "HTMLModel",
          "model_module_version": "1.5.0",
          "state": {
            "_dom_classes": [],
            "_model_module": "@jupyter-widgets/controls",
            "_model_module_version": "1.5.0",
            "_model_name": "HTMLModel",
            "_view_count": null,
            "_view_module": "@jupyter-widgets/controls",
            "_view_module_version": "1.5.0",
            "_view_name": "HTMLView",
            "description": "",
            "description_tooltip": null,
            "layout": "IPY_MODEL_d0be4f515529404b8730cf54296eff39",
            "placeholder": "​",
            "style": "IPY_MODEL_fc90f96438db41e5b2e75b56ef6efc16",
            "value": "pytorch_model.bin: 100%"
          }
        },
        "ac7f5428b1d74713af96860c68310e76": {
          "model_module": "@jupyter-widgets/controls",
          "model_name": "FloatProgressModel",
          "model_module_version": "1.5.0",
          "state": {
            "_dom_classes": [],
            "_model_module": "@jupyter-widgets/controls",
            "_model_module_version": "1.5.0",
            "_model_name": "FloatProgressModel",
            "_view_count": null,
            "_view_module": "@jupyter-widgets/controls",
            "_view_module_version": "1.5.0",
            "_view_name": "ProgressView",
            "bar_style": "success",
            "description": "",
            "description_tooltip": null,
            "layout": "IPY_MODEL_5866b8eb3cc140d48583dc655f5b8864",
            "max": 542923308,
            "min": 0,
            "orientation": "horizontal",
            "style": "IPY_MODEL_051dd1386e9a4d53a6646613c67547b3",
            "value": 542923308
          }
        },
        "67e64b347ae7492581135a56ee1cb346": {
          "model_module": "@jupyter-widgets/controls",
          "model_name": "HTMLModel",
          "model_module_version": "1.5.0",
          "state": {
            "_dom_classes": [],
            "_model_module": "@jupyter-widgets/controls",
            "_model_module_version": "1.5.0",
            "_model_name": "HTMLModel",
            "_view_count": null,
            "_view_module": "@jupyter-widgets/controls",
            "_view_module_version": "1.5.0",
            "_view_name": "HTMLView",
            "description": "",
            "description_tooltip": null,
            "layout": "IPY_MODEL_0e09ed9785f6453a87b3b72297bb12aa",
            "placeholder": "​",
            "style": "IPY_MODEL_1d9ed5c355f340c8adbaaac085bd7112",
            "value": " 543M/543M [00:03&lt;00:00, 127MB/s]"
          }
        },
        "6ff622d0602947ca91e8f0e37dfa21e1": {
          "model_module": "@jupyter-widgets/base",
          "model_name": "LayoutModel",
          "model_module_version": "1.2.0",
          "state": {
            "_model_module": "@jupyter-widgets/base",
            "_model_module_version": "1.2.0",
            "_model_name": "LayoutModel",
            "_view_count": null,
            "_view_module": "@jupyter-widgets/base",
            "_view_module_version": "1.2.0",
            "_view_name": "LayoutView",
            "align_content": null,
            "align_items": null,
            "align_self": null,
            "border": null,
            "bottom": null,
            "display": null,
            "flex": null,
            "flex_flow": null,
            "grid_area": null,
            "grid_auto_columns": null,
            "grid_auto_flow": null,
            "grid_auto_rows": null,
            "grid_column": null,
            "grid_gap": null,
            "grid_row": null,
            "grid_template_areas": null,
            "grid_template_columns": null,
            "grid_template_rows": null,
            "height": null,
            "justify_content": null,
            "justify_items": null,
            "left": null,
            "margin": null,
            "max_height": null,
            "max_width": null,
            "min_height": null,
            "min_width": null,
            "object_fit": null,
            "object_position": null,
            "order": null,
            "overflow": null,
            "overflow_x": null,
            "overflow_y": null,
            "padding": null,
            "right": null,
            "top": null,
            "visibility": null,
            "width": null
          }
        },
        "d0be4f515529404b8730cf54296eff39": {
          "model_module": "@jupyter-widgets/base",
          "model_name": "LayoutModel",
          "model_module_version": "1.2.0",
          "state": {
            "_model_module": "@jupyter-widgets/base",
            "_model_module_version": "1.2.0",
            "_model_name": "LayoutModel",
            "_view_count": null,
            "_view_module": "@jupyter-widgets/base",
            "_view_module_version": "1.2.0",
            "_view_name": "LayoutView",
            "align_content": null,
            "align_items": null,
            "align_self": null,
            "border": null,
            "bottom": null,
            "display": null,
            "flex": null,
            "flex_flow": null,
            "grid_area": null,
            "grid_auto_columns": null,
            "grid_auto_flow": null,
            "grid_auto_rows": null,
            "grid_column": null,
            "grid_gap": null,
            "grid_row": null,
            "grid_template_areas": null,
            "grid_template_columns": null,
            "grid_template_rows": null,
            "height": null,
            "justify_content": null,
            "justify_items": null,
            "left": null,
            "margin": null,
            "max_height": null,
            "max_width": null,
            "min_height": null,
            "min_width": null,
            "object_fit": null,
            "object_position": null,
            "order": null,
            "overflow": null,
            "overflow_x": null,
            "overflow_y": null,
            "padding": null,
            "right": null,
            "top": null,
            "visibility": null,
            "width": null
          }
        },
        "fc90f96438db41e5b2e75b56ef6efc16": {
          "model_module": "@jupyter-widgets/controls",
          "model_name": "DescriptionStyleModel",
          "model_module_version": "1.5.0",
          "state": {
            "_model_module": "@jupyter-widgets/controls",
            "_model_module_version": "1.5.0",
            "_model_name": "DescriptionStyleModel",
            "_view_count": null,
            "_view_module": "@jupyter-widgets/base",
            "_view_module_version": "1.2.0",
            "_view_name": "StyleView",
            "description_width": ""
          }
        },
        "5866b8eb3cc140d48583dc655f5b8864": {
          "model_module": "@jupyter-widgets/base",
          "model_name": "LayoutModel",
          "model_module_version": "1.2.0",
          "state": {
            "_model_module": "@jupyter-widgets/base",
            "_model_module_version": "1.2.0",
            "_model_name": "LayoutModel",
            "_view_count": null,
            "_view_module": "@jupyter-widgets/base",
            "_view_module_version": "1.2.0",
            "_view_name": "LayoutView",
            "align_content": null,
            "align_items": null,
            "align_self": null,
            "border": null,
            "bottom": null,
            "display": null,
            "flex": null,
            "flex_flow": null,
            "grid_area": null,
            "grid_auto_columns": null,
            "grid_auto_flow": null,
            "grid_auto_rows": null,
            "grid_column": null,
            "grid_gap": null,
            "grid_row": null,
            "grid_template_areas": null,
            "grid_template_columns": null,
            "grid_template_rows": null,
            "height": null,
            "justify_content": null,
            "justify_items": null,
            "left": null,
            "margin": null,
            "max_height": null,
            "max_width": null,
            "min_height": null,
            "min_width": null,
            "object_fit": null,
            "object_position": null,
            "order": null,
            "overflow": null,
            "overflow_x": null,
            "overflow_y": null,
            "padding": null,
            "right": null,
            "top": null,
            "visibility": null,
            "width": null
          }
        },
        "051dd1386e9a4d53a6646613c67547b3": {
          "model_module": "@jupyter-widgets/controls",
          "model_name": "ProgressStyleModel",
          "model_module_version": "1.5.0",
          "state": {
            "_model_module": "@jupyter-widgets/controls",
            "_model_module_version": "1.5.0",
            "_model_name": "ProgressStyleModel",
            "_view_count": null,
            "_view_module": "@jupyter-widgets/base",
            "_view_module_version": "1.2.0",
            "_view_name": "StyleView",
            "bar_color": null,
            "description_width": ""
          }
        },
        "0e09ed9785f6453a87b3b72297bb12aa": {
          "model_module": "@jupyter-widgets/base",
          "model_name": "LayoutModel",
          "model_module_version": "1.2.0",
          "state": {
            "_model_module": "@jupyter-widgets/base",
            "_model_module_version": "1.2.0",
            "_model_name": "LayoutModel",
            "_view_count": null,
            "_view_module": "@jupyter-widgets/base",
            "_view_module_version": "1.2.0",
            "_view_name": "LayoutView",
            "align_content": null,
            "align_items": null,
            "align_self": null,
            "border": null,
            "bottom": null,
            "display": null,
            "flex": null,
            "flex_flow": null,
            "grid_area": null,
            "grid_auto_columns": null,
            "grid_auto_flow": null,
            "grid_auto_rows": null,
            "grid_column": null,
            "grid_gap": null,
            "grid_row": null,
            "grid_template_areas": null,
            "grid_template_columns": null,
            "grid_template_rows": null,
            "height": null,
            "justify_content": null,
            "justify_items": null,
            "left": null,
            "margin": null,
            "max_height": null,
            "max_width": null,
            "min_height": null,
            "min_width": null,
            "object_fit": null,
            "object_position": null,
            "order": null,
            "overflow": null,
            "overflow_x": null,
            "overflow_y": null,
            "padding": null,
            "right": null,
            "top": null,
            "visibility": null,
            "width": null
          }
        },
        "1d9ed5c355f340c8adbaaac085bd7112": {
          "model_module": "@jupyter-widgets/controls",
          "model_name": "DescriptionStyleModel",
          "model_module_version": "1.5.0",
          "state": {
            "_model_module": "@jupyter-widgets/controls",
            "_model_module_version": "1.5.0",
            "_model_name": "DescriptionStyleModel",
            "_view_count": null,
            "_view_module": "@jupyter-widgets/base",
            "_view_module_version": "1.2.0",
            "_view_name": "StyleView",
            "description_width": ""
          }
        },
        "b1b529bb09ee48e0a7a5b9be010ce0e2": {
          "model_module": "@jupyter-widgets/controls",
          "model_name": "HBoxModel",
          "model_module_version": "1.5.0",
          "state": {
            "_dom_classes": [],
            "_model_module": "@jupyter-widgets/controls",
            "_model_module_version": "1.5.0",
            "_model_name": "HBoxModel",
            "_view_count": null,
            "_view_module": "@jupyter-widgets/controls",
            "_view_module_version": "1.5.0",
            "_view_name": "HBoxView",
            "box_style": "",
            "children": [
              "IPY_MODEL_dc274fcb541047dbb31b35f1d47193f1",
              "IPY_MODEL_b49159c82dc7403aa5f4774b759e65fa",
              "IPY_MODEL_30c360c970e74f6d9113aa0a5538fb08"
            ],
            "layout": "IPY_MODEL_12653a06081949cd9daeda23947e08dd"
          }
        },
        "dc274fcb541047dbb31b35f1d47193f1": {
          "model_module": "@jupyter-widgets/controls",
          "model_name": "HTMLModel",
          "model_module_version": "1.5.0",
          "state": {
            "_dom_classes": [],
            "_model_module": "@jupyter-widgets/controls",
            "_model_module_version": "1.5.0",
            "_model_name": "HTMLModel",
            "_view_count": null,
            "_view_module": "@jupyter-widgets/controls",
            "_view_module_version": "1.5.0",
            "_view_name": "HTMLView",
            "description": "",
            "description_tooltip": null,
            "layout": "IPY_MODEL_f92b95ad550b4fea9380a33743607793",
            "placeholder": "​",
            "style": "IPY_MODEL_d66c284b9aab41cc8134a15c99365884",
            "value": "vocab.txt: 100%"
          }
        },
        "b49159c82dc7403aa5f4774b759e65fa": {
          "model_module": "@jupyter-widgets/controls",
          "model_name": "FloatProgressModel",
          "model_module_version": "1.5.0",
          "state": {
            "_dom_classes": [],
            "_model_module": "@jupyter-widgets/controls",
            "_model_module_version": "1.5.0",
            "_model_name": "FloatProgressModel",
            "_view_count": null,
            "_view_module": "@jupyter-widgets/controls",
            "_view_module_version": "1.5.0",
            "_view_name": "ProgressView",
            "bar_style": "success",
            "description": "",
            "description_tooltip": null,
            "layout": "IPY_MODEL_1906b4e93f114dd88f6eb85a406232dc",
            "max": 895321,
            "min": 0,
            "orientation": "horizontal",
            "style": "IPY_MODEL_085fa7fea8534a3eaaea5574485dfa03",
            "value": 895321
          }
        },
        "30c360c970e74f6d9113aa0a5538fb08": {
          "model_module": "@jupyter-widgets/controls",
          "model_name": "HTMLModel",
          "model_module_version": "1.5.0",
          "state": {
            "_dom_classes": [],
            "_model_module": "@jupyter-widgets/controls",
            "_model_module_version": "1.5.0",
            "_model_name": "HTMLModel",
            "_view_count": null,
            "_view_module": "@jupyter-widgets/controls",
            "_view_module_version": "1.5.0",
            "_view_name": "HTMLView",
            "description": "",
            "description_tooltip": null,
            "layout": "IPY_MODEL_353124f3d1db4c979bc598ee156331e6",
            "placeholder": "​",
            "style": "IPY_MODEL_bbde50b1a4eb4adbb009a45647e41bb3",
            "value": " 895k/895k [00:00&lt;00:00, 3.44MB/s]"
          }
        },
        "12653a06081949cd9daeda23947e08dd": {
          "model_module": "@jupyter-widgets/base",
          "model_name": "LayoutModel",
          "model_module_version": "1.2.0",
          "state": {
            "_model_module": "@jupyter-widgets/base",
            "_model_module_version": "1.2.0",
            "_model_name": "LayoutModel",
            "_view_count": null,
            "_view_module": "@jupyter-widgets/base",
            "_view_module_version": "1.2.0",
            "_view_name": "LayoutView",
            "align_content": null,
            "align_items": null,
            "align_self": null,
            "border": null,
            "bottom": null,
            "display": null,
            "flex": null,
            "flex_flow": null,
            "grid_area": null,
            "grid_auto_columns": null,
            "grid_auto_flow": null,
            "grid_auto_rows": null,
            "grid_column": null,
            "grid_gap": null,
            "grid_row": null,
            "grid_template_areas": null,
            "grid_template_columns": null,
            "grid_template_rows": null,
            "height": null,
            "justify_content": null,
            "justify_items": null,
            "left": null,
            "margin": null,
            "max_height": null,
            "max_width": null,
            "min_height": null,
            "min_width": null,
            "object_fit": null,
            "object_position": null,
            "order": null,
            "overflow": null,
            "overflow_x": null,
            "overflow_y": null,
            "padding": null,
            "right": null,
            "top": null,
            "visibility": null,
            "width": null
          }
        },
        "f92b95ad550b4fea9380a33743607793": {
          "model_module": "@jupyter-widgets/base",
          "model_name": "LayoutModel",
          "model_module_version": "1.2.0",
          "state": {
            "_model_module": "@jupyter-widgets/base",
            "_model_module_version": "1.2.0",
            "_model_name": "LayoutModel",
            "_view_count": null,
            "_view_module": "@jupyter-widgets/base",
            "_view_module_version": "1.2.0",
            "_view_name": "LayoutView",
            "align_content": null,
            "align_items": null,
            "align_self": null,
            "border": null,
            "bottom": null,
            "display": null,
            "flex": null,
            "flex_flow": null,
            "grid_area": null,
            "grid_auto_columns": null,
            "grid_auto_flow": null,
            "grid_auto_rows": null,
            "grid_column": null,
            "grid_gap": null,
            "grid_row": null,
            "grid_template_areas": null,
            "grid_template_columns": null,
            "grid_template_rows": null,
            "height": null,
            "justify_content": null,
            "justify_items": null,
            "left": null,
            "margin": null,
            "max_height": null,
            "max_width": null,
            "min_height": null,
            "min_width": null,
            "object_fit": null,
            "object_position": null,
            "order": null,
            "overflow": null,
            "overflow_x": null,
            "overflow_y": null,
            "padding": null,
            "right": null,
            "top": null,
            "visibility": null,
            "width": null
          }
        },
        "d66c284b9aab41cc8134a15c99365884": {
          "model_module": "@jupyter-widgets/controls",
          "model_name": "DescriptionStyleModel",
          "model_module_version": "1.5.0",
          "state": {
            "_model_module": "@jupyter-widgets/controls",
            "_model_module_version": "1.5.0",
            "_model_name": "DescriptionStyleModel",
            "_view_count": null,
            "_view_module": "@jupyter-widgets/base",
            "_view_module_version": "1.2.0",
            "_view_name": "StyleView",
            "description_width": ""
          }
        },
        "1906b4e93f114dd88f6eb85a406232dc": {
          "model_module": "@jupyter-widgets/base",
          "model_name": "LayoutModel",
          "model_module_version": "1.2.0",
          "state": {
            "_model_module": "@jupyter-widgets/base",
            "_model_module_version": "1.2.0",
            "_model_name": "LayoutModel",
            "_view_count": null,
            "_view_module": "@jupyter-widgets/base",
            "_view_module_version": "1.2.0",
            "_view_name": "LayoutView",
            "align_content": null,
            "align_items": null,
            "align_self": null,
            "border": null,
            "bottom": null,
            "display": null,
            "flex": null,
            "flex_flow": null,
            "grid_area": null,
            "grid_auto_columns": null,
            "grid_auto_flow": null,
            "grid_auto_rows": null,
            "grid_column": null,
            "grid_gap": null,
            "grid_row": null,
            "grid_template_areas": null,
            "grid_template_columns": null,
            "grid_template_rows": null,
            "height": null,
            "justify_content": null,
            "justify_items": null,
            "left": null,
            "margin": null,
            "max_height": null,
            "max_width": null,
            "min_height": null,
            "min_width": null,
            "object_fit": null,
            "object_position": null,
            "order": null,
            "overflow": null,
            "overflow_x": null,
            "overflow_y": null,
            "padding": null,
            "right": null,
            "top": null,
            "visibility": null,
            "width": null
          }
        },
        "085fa7fea8534a3eaaea5574485dfa03": {
          "model_module": "@jupyter-widgets/controls",
          "model_name": "ProgressStyleModel",
          "model_module_version": "1.5.0",
          "state": {
            "_model_module": "@jupyter-widgets/controls",
            "_model_module_version": "1.5.0",
            "_model_name": "ProgressStyleModel",
            "_view_count": null,
            "_view_module": "@jupyter-widgets/base",
            "_view_module_version": "1.2.0",
            "_view_name": "StyleView",
            "bar_color": null,
            "description_width": ""
          }
        },
        "353124f3d1db4c979bc598ee156331e6": {
          "model_module": "@jupyter-widgets/base",
          "model_name": "LayoutModel",
          "model_module_version": "1.2.0",
          "state": {
            "_model_module": "@jupyter-widgets/base",
            "_model_module_version": "1.2.0",
            "_model_name": "LayoutModel",
            "_view_count": null,
            "_view_module": "@jupyter-widgets/base",
            "_view_module_version": "1.2.0",
            "_view_name": "LayoutView",
            "align_content": null,
            "align_items": null,
            "align_self": null,
            "border": null,
            "bottom": null,
            "display": null,
            "flex": null,
            "flex_flow": null,
            "grid_area": null,
            "grid_auto_columns": null,
            "grid_auto_flow": null,
            "grid_auto_rows": null,
            "grid_column": null,
            "grid_gap": null,
            "grid_row": null,
            "grid_template_areas": null,
            "grid_template_columns": null,
            "grid_template_rows": null,
            "height": null,
            "justify_content": null,
            "justify_items": null,
            "left": null,
            "margin": null,
            "max_height": null,
            "max_width": null,
            "min_height": null,
            "min_width": null,
            "object_fit": null,
            "object_position": null,
            "order": null,
            "overflow": null,
            "overflow_x": null,
            "overflow_y": null,
            "padding": null,
            "right": null,
            "top": null,
            "visibility": null,
            "width": null
          }
        },
        "bbde50b1a4eb4adbb009a45647e41bb3": {
          "model_module": "@jupyter-widgets/controls",
          "model_name": "DescriptionStyleModel",
          "model_module_version": "1.5.0",
          "state": {
            "_model_module": "@jupyter-widgets/controls",
            "_model_module_version": "1.5.0",
            "_model_name": "DescriptionStyleModel",
            "_view_count": null,
            "_view_module": "@jupyter-widgets/base",
            "_view_module_version": "1.2.0",
            "_view_name": "StyleView",
            "description_width": ""
          }
        },
        "51ab9a3146124a0bbe702282988c0cc5": {
          "model_module": "@jupyter-widgets/controls",
          "model_name": "HBoxModel",
          "model_module_version": "1.5.0",
          "state": {
            "_dom_classes": [],
            "_model_module": "@jupyter-widgets/controls",
            "_model_module_version": "1.5.0",
            "_model_name": "HBoxModel",
            "_view_count": null,
            "_view_module": "@jupyter-widgets/controls",
            "_view_module_version": "1.5.0",
            "_view_name": "HBoxView",
            "box_style": "",
            "children": [
              "IPY_MODEL_7ce1aa30aecc4c39aec9ae7f4ba38d1a",
              "IPY_MODEL_dbae37e2a47a492f83ea9ab4bd9ff7b1",
              "IPY_MODEL_5b79c4f668c74351b4894a95feff2ec2"
            ],
            "layout": "IPY_MODEL_ee5e5d0b8f7d4e0595691219ddbdeebd"
          }
        },
        "7ce1aa30aecc4c39aec9ae7f4ba38d1a": {
          "model_module": "@jupyter-widgets/controls",
          "model_name": "HTMLModel",
          "model_module_version": "1.5.0",
          "state": {
            "_dom_classes": [],
            "_model_module": "@jupyter-widgets/controls",
            "_model_module_version": "1.5.0",
            "_model_name": "HTMLModel",
            "_view_count": null,
            "_view_module": "@jupyter-widgets/controls",
            "_view_module_version": "1.5.0",
            "_view_name": "HTMLView",
            "description": "",
            "description_tooltip": null,
            "layout": "IPY_MODEL_af36aa0863b449acabaa8a6f8512a3fc",
            "placeholder": "​",
            "style": "IPY_MODEL_99e9d29de1e341a29c117b321ce5e079",
            "value": "bpe.codes: 100%"
          }
        },
        "dbae37e2a47a492f83ea9ab4bd9ff7b1": {
          "model_module": "@jupyter-widgets/controls",
          "model_name": "FloatProgressModel",
          "model_module_version": "1.5.0",
          "state": {
            "_dom_classes": [],
            "_model_module": "@jupyter-widgets/controls",
            "_model_module_version": "1.5.0",
            "_model_name": "FloatProgressModel",
            "_view_count": null,
            "_view_module": "@jupyter-widgets/controls",
            "_view_module_version": "1.5.0",
            "_view_name": "ProgressView",
            "bar_style": "success",
            "description": "",
            "description_tooltip": null,
            "layout": "IPY_MODEL_e2fc8e52bc4b40c68abf3fe52f4e074c",
            "max": 1135173,
            "min": 0,
            "orientation": "horizontal",
            "style": "IPY_MODEL_ad077ed6ceab48c19caf5596e0cd0bcf",
            "value": 1135173
          }
        },
        "5b79c4f668c74351b4894a95feff2ec2": {
          "model_module": "@jupyter-widgets/controls",
          "model_name": "HTMLModel",
          "model_module_version": "1.5.0",
          "state": {
            "_dom_classes": [],
            "_model_module": "@jupyter-widgets/controls",
            "_model_module_version": "1.5.0",
            "_model_name": "HTMLModel",
            "_view_count": null,
            "_view_module": "@jupyter-widgets/controls",
            "_view_module_version": "1.5.0",
            "_view_name": "HTMLView",
            "description": "",
            "description_tooltip": null,
            "layout": "IPY_MODEL_3f91021a97c748c78adcc4e1a04f9857",
            "placeholder": "​",
            "style": "IPY_MODEL_4b772f81f3574bff985d695cdc9fa9cb",
            "value": " 1.14M/1.14M [00:00&lt;00:00, 5.72MB/s]"
          }
        },
        "ee5e5d0b8f7d4e0595691219ddbdeebd": {
          "model_module": "@jupyter-widgets/base",
          "model_name": "LayoutModel",
          "model_module_version": "1.2.0",
          "state": {
            "_model_module": "@jupyter-widgets/base",
            "_model_module_version": "1.2.0",
            "_model_name": "LayoutModel",
            "_view_count": null,
            "_view_module": "@jupyter-widgets/base",
            "_view_module_version": "1.2.0",
            "_view_name": "LayoutView",
            "align_content": null,
            "align_items": null,
            "align_self": null,
            "border": null,
            "bottom": null,
            "display": null,
            "flex": null,
            "flex_flow": null,
            "grid_area": null,
            "grid_auto_columns": null,
            "grid_auto_flow": null,
            "grid_auto_rows": null,
            "grid_column": null,
            "grid_gap": null,
            "grid_row": null,
            "grid_template_areas": null,
            "grid_template_columns": null,
            "grid_template_rows": null,
            "height": null,
            "justify_content": null,
            "justify_items": null,
            "left": null,
            "margin": null,
            "max_height": null,
            "max_width": null,
            "min_height": null,
            "min_width": null,
            "object_fit": null,
            "object_position": null,
            "order": null,
            "overflow": null,
            "overflow_x": null,
            "overflow_y": null,
            "padding": null,
            "right": null,
            "top": null,
            "visibility": null,
            "width": null
          }
        },
        "af36aa0863b449acabaa8a6f8512a3fc": {
          "model_module": "@jupyter-widgets/base",
          "model_name": "LayoutModel",
          "model_module_version": "1.2.0",
          "state": {
            "_model_module": "@jupyter-widgets/base",
            "_model_module_version": "1.2.0",
            "_model_name": "LayoutModel",
            "_view_count": null,
            "_view_module": "@jupyter-widgets/base",
            "_view_module_version": "1.2.0",
            "_view_name": "LayoutView",
            "align_content": null,
            "align_items": null,
            "align_self": null,
            "border": null,
            "bottom": null,
            "display": null,
            "flex": null,
            "flex_flow": null,
            "grid_area": null,
            "grid_auto_columns": null,
            "grid_auto_flow": null,
            "grid_auto_rows": null,
            "grid_column": null,
            "grid_gap": null,
            "grid_row": null,
            "grid_template_areas": null,
            "grid_template_columns": null,
            "grid_template_rows": null,
            "height": null,
            "justify_content": null,
            "justify_items": null,
            "left": null,
            "margin": null,
            "max_height": null,
            "max_width": null,
            "min_height": null,
            "min_width": null,
            "object_fit": null,
            "object_position": null,
            "order": null,
            "overflow": null,
            "overflow_x": null,
            "overflow_y": null,
            "padding": null,
            "right": null,
            "top": null,
            "visibility": null,
            "width": null
          }
        },
        "99e9d29de1e341a29c117b321ce5e079": {
          "model_module": "@jupyter-widgets/controls",
          "model_name": "DescriptionStyleModel",
          "model_module_version": "1.5.0",
          "state": {
            "_model_module": "@jupyter-widgets/controls",
            "_model_module_version": "1.5.0",
            "_model_name": "DescriptionStyleModel",
            "_view_count": null,
            "_view_module": "@jupyter-widgets/base",
            "_view_module_version": "1.2.0",
            "_view_name": "StyleView",
            "description_width": ""
          }
        },
        "e2fc8e52bc4b40c68abf3fe52f4e074c": {
          "model_module": "@jupyter-widgets/base",
          "model_name": "LayoutModel",
          "model_module_version": "1.2.0",
          "state": {
            "_model_module": "@jupyter-widgets/base",
            "_model_module_version": "1.2.0",
            "_model_name": "LayoutModel",
            "_view_count": null,
            "_view_module": "@jupyter-widgets/base",
            "_view_module_version": "1.2.0",
            "_view_name": "LayoutView",
            "align_content": null,
            "align_items": null,
            "align_self": null,
            "border": null,
            "bottom": null,
            "display": null,
            "flex": null,
            "flex_flow": null,
            "grid_area": null,
            "grid_auto_columns": null,
            "grid_auto_flow": null,
            "grid_auto_rows": null,
            "grid_column": null,
            "grid_gap": null,
            "grid_row": null,
            "grid_template_areas": null,
            "grid_template_columns": null,
            "grid_template_rows": null,
            "height": null,
            "justify_content": null,
            "justify_items": null,
            "left": null,
            "margin": null,
            "max_height": null,
            "max_width": null,
            "min_height": null,
            "min_width": null,
            "object_fit": null,
            "object_position": null,
            "order": null,
            "overflow": null,
            "overflow_x": null,
            "overflow_y": null,
            "padding": null,
            "right": null,
            "top": null,
            "visibility": null,
            "width": null
          }
        },
        "ad077ed6ceab48c19caf5596e0cd0bcf": {
          "model_module": "@jupyter-widgets/controls",
          "model_name": "ProgressStyleModel",
          "model_module_version": "1.5.0",
          "state": {
            "_model_module": "@jupyter-widgets/controls",
            "_model_module_version": "1.5.0",
            "_model_name": "ProgressStyleModel",
            "_view_count": null,
            "_view_module": "@jupyter-widgets/base",
            "_view_module_version": "1.2.0",
            "_view_name": "StyleView",
            "bar_color": null,
            "description_width": ""
          }
        },
        "3f91021a97c748c78adcc4e1a04f9857": {
          "model_module": "@jupyter-widgets/base",
          "model_name": "LayoutModel",
          "model_module_version": "1.2.0",
          "state": {
            "_model_module": "@jupyter-widgets/base",
            "_model_module_version": "1.2.0",
            "_model_name": "LayoutModel",
            "_view_count": null,
            "_view_module": "@jupyter-widgets/base",
            "_view_module_version": "1.2.0",
            "_view_name": "LayoutView",
            "align_content": null,
            "align_items": null,
            "align_self": null,
            "border": null,
            "bottom": null,
            "display": null,
            "flex": null,
            "flex_flow": null,
            "grid_area": null,
            "grid_auto_columns": null,
            "grid_auto_flow": null,
            "grid_auto_rows": null,
            "grid_column": null,
            "grid_gap": null,
            "grid_row": null,
            "grid_template_areas": null,
            "grid_template_columns": null,
            "grid_template_rows": null,
            "height": null,
            "justify_content": null,
            "justify_items": null,
            "left": null,
            "margin": null,
            "max_height": null,
            "max_width": null,
            "min_height": null,
            "min_width": null,
            "object_fit": null,
            "object_position": null,
            "order": null,
            "overflow": null,
            "overflow_x": null,
            "overflow_y": null,
            "padding": null,
            "right": null,
            "top": null,
            "visibility": null,
            "width": null
          }
        },
        "4b772f81f3574bff985d695cdc9fa9cb": {
          "model_module": "@jupyter-widgets/controls",
          "model_name": "DescriptionStyleModel",
          "model_module_version": "1.5.0",
          "state": {
            "_model_module": "@jupyter-widgets/controls",
            "_model_module_version": "1.5.0",
            "_model_name": "DescriptionStyleModel",
            "_view_count": null,
            "_view_module": "@jupyter-widgets/base",
            "_view_module_version": "1.2.0",
            "_view_name": "StyleView",
            "description_width": ""
          }
        },
        "4c5647e54d5340aeab0cc1330c2ce0e9": {
          "model_module": "@jupyter-widgets/controls",
          "model_name": "HBoxModel",
          "model_module_version": "1.5.0",
          "state": {
            "_dom_classes": [],
            "_model_module": "@jupyter-widgets/controls",
            "_model_module_version": "1.5.0",
            "_model_name": "HBoxModel",
            "_view_count": null,
            "_view_module": "@jupyter-widgets/controls",
            "_view_module_version": "1.5.0",
            "_view_name": "HBoxView",
            "box_style": "",
            "children": [
              "IPY_MODEL_079a5543db41464daa99ad0fc756266c",
              "IPY_MODEL_56223ed2a34f4c838c4f771fcec6ecd1",
              "IPY_MODEL_0e60f0089d17466caf933afdc487c6f8"
            ],
            "layout": "IPY_MODEL_35dac0ba153d4304a0fd1f809f40d590"
          }
        },
        "079a5543db41464daa99ad0fc756266c": {
          "model_module": "@jupyter-widgets/controls",
          "model_name": "HTMLModel",
          "model_module_version": "1.5.0",
          "state": {
            "_dom_classes": [],
            "_model_module": "@jupyter-widgets/controls",
            "_model_module_version": "1.5.0",
            "_model_name": "HTMLModel",
            "_view_count": null,
            "_view_module": "@jupyter-widgets/controls",
            "_view_module_version": "1.5.0",
            "_view_name": "HTMLView",
            "description": "",
            "description_tooltip": null,
            "layout": "IPY_MODEL_824c860f15564ec9b32fad4f9603cfee",
            "placeholder": "​",
            "style": "IPY_MODEL_5e5cc0120de94d0898953ab4c7d860d1",
            "value": "tokenizer.json: 100%"
          }
        },
        "56223ed2a34f4c838c4f771fcec6ecd1": {
          "model_module": "@jupyter-widgets/controls",
          "model_name": "FloatProgressModel",
          "model_module_version": "1.5.0",
          "state": {
            "_dom_classes": [],
            "_model_module": "@jupyter-widgets/controls",
            "_model_module_version": "1.5.0",
            "_model_name": "FloatProgressModel",
            "_view_count": null,
            "_view_module": "@jupyter-widgets/controls",
            "_view_module_version": "1.5.0",
            "_view_name": "ProgressView",
            "bar_style": "success",
            "description": "",
            "description_tooltip": null,
            "layout": "IPY_MODEL_3315bec7eaf2422398986f8059b5a6a6",
            "max": 3132320,
            "min": 0,
            "orientation": "horizontal",
            "style": "IPY_MODEL_500a6397d1f94422bf6713ffde6a2396",
            "value": 3132320
          }
        },
        "0e60f0089d17466caf933afdc487c6f8": {
          "model_module": "@jupyter-widgets/controls",
          "model_name": "HTMLModel",
          "model_module_version": "1.5.0",
          "state": {
            "_dom_classes": [],
            "_model_module": "@jupyter-widgets/controls",
            "_model_module_version": "1.5.0",
            "_model_name": "HTMLModel",
            "_view_count": null,
            "_view_module": "@jupyter-widgets/controls",
            "_view_module_version": "1.5.0",
            "_view_name": "HTMLView",
            "description": "",
            "description_tooltip": null,
            "layout": "IPY_MODEL_0a5b8c4f47d24106923e2b06290cdfda",
            "placeholder": "​",
            "style": "IPY_MODEL_8831ff50a54a476fae5586219841c65d",
            "value": " 3.13M/3.13M [00:00&lt;00:00, 9.78MB/s]"
          }
        },
        "35dac0ba153d4304a0fd1f809f40d590": {
          "model_module": "@jupyter-widgets/base",
          "model_name": "LayoutModel",
          "model_module_version": "1.2.0",
          "state": {
            "_model_module": "@jupyter-widgets/base",
            "_model_module_version": "1.2.0",
            "_model_name": "LayoutModel",
            "_view_count": null,
            "_view_module": "@jupyter-widgets/base",
            "_view_module_version": "1.2.0",
            "_view_name": "LayoutView",
            "align_content": null,
            "align_items": null,
            "align_self": null,
            "border": null,
            "bottom": null,
            "display": null,
            "flex": null,
            "flex_flow": null,
            "grid_area": null,
            "grid_auto_columns": null,
            "grid_auto_flow": null,
            "grid_auto_rows": null,
            "grid_column": null,
            "grid_gap": null,
            "grid_row": null,
            "grid_template_areas": null,
            "grid_template_columns": null,
            "grid_template_rows": null,
            "height": null,
            "justify_content": null,
            "justify_items": null,
            "left": null,
            "margin": null,
            "max_height": null,
            "max_width": null,
            "min_height": null,
            "min_width": null,
            "object_fit": null,
            "object_position": null,
            "order": null,
            "overflow": null,
            "overflow_x": null,
            "overflow_y": null,
            "padding": null,
            "right": null,
            "top": null,
            "visibility": null,
            "width": null
          }
        },
        "824c860f15564ec9b32fad4f9603cfee": {
          "model_module": "@jupyter-widgets/base",
          "model_name": "LayoutModel",
          "model_module_version": "1.2.0",
          "state": {
            "_model_module": "@jupyter-widgets/base",
            "_model_module_version": "1.2.0",
            "_model_name": "LayoutModel",
            "_view_count": null,
            "_view_module": "@jupyter-widgets/base",
            "_view_module_version": "1.2.0",
            "_view_name": "LayoutView",
            "align_content": null,
            "align_items": null,
            "align_self": null,
            "border": null,
            "bottom": null,
            "display": null,
            "flex": null,
            "flex_flow": null,
            "grid_area": null,
            "grid_auto_columns": null,
            "grid_auto_flow": null,
            "grid_auto_rows": null,
            "grid_column": null,
            "grid_gap": null,
            "grid_row": null,
            "grid_template_areas": null,
            "grid_template_columns": null,
            "grid_template_rows": null,
            "height": null,
            "justify_content": null,
            "justify_items": null,
            "left": null,
            "margin": null,
            "max_height": null,
            "max_width": null,
            "min_height": null,
            "min_width": null,
            "object_fit": null,
            "object_position": null,
            "order": null,
            "overflow": null,
            "overflow_x": null,
            "overflow_y": null,
            "padding": null,
            "right": null,
            "top": null,
            "visibility": null,
            "width": null
          }
        },
        "5e5cc0120de94d0898953ab4c7d860d1": {
          "model_module": "@jupyter-widgets/controls",
          "model_name": "DescriptionStyleModel",
          "model_module_version": "1.5.0",
          "state": {
            "_model_module": "@jupyter-widgets/controls",
            "_model_module_version": "1.5.0",
            "_model_name": "DescriptionStyleModel",
            "_view_count": null,
            "_view_module": "@jupyter-widgets/base",
            "_view_module_version": "1.2.0",
            "_view_name": "StyleView",
            "description_width": ""
          }
        },
        "3315bec7eaf2422398986f8059b5a6a6": {
          "model_module": "@jupyter-widgets/base",
          "model_name": "LayoutModel",
          "model_module_version": "1.2.0",
          "state": {
            "_model_module": "@jupyter-widgets/base",
            "_model_module_version": "1.2.0",
            "_model_name": "LayoutModel",
            "_view_count": null,
            "_view_module": "@jupyter-widgets/base",
            "_view_module_version": "1.2.0",
            "_view_name": "LayoutView",
            "align_content": null,
            "align_items": null,
            "align_self": null,
            "border": null,
            "bottom": null,
            "display": null,
            "flex": null,
            "flex_flow": null,
            "grid_area": null,
            "grid_auto_columns": null,
            "grid_auto_flow": null,
            "grid_auto_rows": null,
            "grid_column": null,
            "grid_gap": null,
            "grid_row": null,
            "grid_template_areas": null,
            "grid_template_columns": null,
            "grid_template_rows": null,
            "height": null,
            "justify_content": null,
            "justify_items": null,
            "left": null,
            "margin": null,
            "max_height": null,
            "max_width": null,
            "min_height": null,
            "min_width": null,
            "object_fit": null,
            "object_position": null,
            "order": null,
            "overflow": null,
            "overflow_x": null,
            "overflow_y": null,
            "padding": null,
            "right": null,
            "top": null,
            "visibility": null,
            "width": null
          }
        },
        "500a6397d1f94422bf6713ffde6a2396": {
          "model_module": "@jupyter-widgets/controls",
          "model_name": "ProgressStyleModel",
          "model_module_version": "1.5.0",
          "state": {
            "_model_module": "@jupyter-widgets/controls",
            "_model_module_version": "1.5.0",
            "_model_name": "ProgressStyleModel",
            "_view_count": null,
            "_view_module": "@jupyter-widgets/base",
            "_view_module_version": "1.2.0",
            "_view_name": "StyleView",
            "bar_color": null,
            "description_width": ""
          }
        },
        "0a5b8c4f47d24106923e2b06290cdfda": {
          "model_module": "@jupyter-widgets/base",
          "model_name": "LayoutModel",
          "model_module_version": "1.2.0",
          "state": {
            "_model_module": "@jupyter-widgets/base",
            "_model_module_version": "1.2.0",
            "_model_name": "LayoutModel",
            "_view_count": null,
            "_view_module": "@jupyter-widgets/base",
            "_view_module_version": "1.2.0",
            "_view_name": "LayoutView",
            "align_content": null,
            "align_items": null,
            "align_self": null,
            "border": null,
            "bottom": null,
            "display": null,
            "flex": null,
            "flex_flow": null,
            "grid_area": null,
            "grid_auto_columns": null,
            "grid_auto_flow": null,
            "grid_auto_rows": null,
            "grid_column": null,
            "grid_gap": null,
            "grid_row": null,
            "grid_template_areas": null,
            "grid_template_columns": null,
            "grid_template_rows": null,
            "height": null,
            "justify_content": null,
            "justify_items": null,
            "left": null,
            "margin": null,
            "max_height": null,
            "max_width": null,
            "min_height": null,
            "min_width": null,
            "object_fit": null,
            "object_position": null,
            "order": null,
            "overflow": null,
            "overflow_x": null,
            "overflow_y": null,
            "padding": null,
            "right": null,
            "top": null,
            "visibility": null,
            "width": null
          }
        },
        "8831ff50a54a476fae5586219841c65d": {
          "model_module": "@jupyter-widgets/controls",
          "model_name": "DescriptionStyleModel",
          "model_module_version": "1.5.0",
          "state": {
            "_model_module": "@jupyter-widgets/controls",
            "_model_module_version": "1.5.0",
            "_model_name": "DescriptionStyleModel",
            "_view_count": null,
            "_view_module": "@jupyter-widgets/base",
            "_view_module_version": "1.2.0",
            "_view_name": "StyleView",
            "description_width": ""
          }
        }
      }
    }
  },
  "cells": [
    {
      "cell_type": "markdown",
      "metadata": {
        "id": "view-in-github",
        "colab_type": "text"
      },
      "source": [
        "<a href=\"https://colab.research.google.com/github/NguyenDucAnforwork/NLP_training/blob/main/phoNLP.ipynb\" target=\"_parent\"><img src=\"https://colab.research.google.com/assets/colab-badge.svg\" alt=\"Open In Colab\"/></a>"
      ]
    },
    {
      "cell_type": "code",
      "source": [
        "!pip install pytorch-crf\n"
      ],
      "metadata": {
        "id": "9Tf3YvE67_kq",
        "colab": {
          "base_uri": "https://localhost:8080/"
        },
        "outputId": "80a66743-ef79-413d-eac6-4471eef31ad2"
      },
      "execution_count": null,
      "outputs": [
        {
          "output_type": "stream",
          "name": "stdout",
          "text": [
            "Collecting pytorch-crf\n",
            "  Downloading pytorch_crf-0.7.2-py3-none-any.whl (9.5 kB)\n",
            "Installing collected packages: pytorch-crf\n",
            "Successfully installed pytorch-crf-0.7.2\n"
          ]
        }
      ]
    },
    {
      "cell_type": "code",
      "source": [
        "a = tokenizer.encode(\"tôi đi học\", add_special_tokens=True, return_tensors='pt')"
      ],
      "metadata": {
        "id": "d9qnh4-SJigp"
      },
      "execution_count": null,
      "outputs": []
    },
    {
      "cell_type": "code",
      "source": [
        "print()"
      ],
      "metadata": {
        "colab": {
          "base_uri": "https://localhost:8080/"
        },
        "id": "n1A69-r9JnDw",
        "outputId": "3b98114a-e888-487b-a518-4d5d679c862c"
      },
      "execution_count": null,
      "outputs": [
        {
          "output_type": "stream",
          "name": "stdout",
          "text": [
            "tensor([[  0,  70,  57, 222,   2]])\n"
          ]
        }
      ]
    },
    {
      "cell_type": "code",
      "source": [
        "import torch\n",
        "from transformers import AutoModel, AutoTokenizer\n",
        "import torch.nn as nn\n",
        "from torchcrf import CRF\n",
        "from torch.utils.data import Dataset , DataLoader\n",
        "import numpy as np\n",
        "import torch.optim as optim\n",
        "from tqdm import tqdm\n",
        "from itertools import cycle"
      ],
      "metadata": {
        "id": "tT1jSZeKX72a"
      },
      "execution_count": null,
      "outputs": []
    },
    {
      "cell_type": "code",
      "execution_count": null,
      "metadata": {
        "id": "Rc7V8aXqV3XH",
        "colab": {
          "base_uri": "https://localhost:8080/",
          "height": 301,
          "referenced_widgets": [
            "81f58cd35be14a25b024f80fe0d2f8e3",
            "cb760bf6eb0c4d06a77f900e9e872805",
            "c9377e15e6a74b14b4b06c627fa32f41",
            "3bdf562a80be46b1904c572f106b4d6f",
            "166fa96c05124fd29315b2b33110b857",
            "e23d09d077734a53931ecfb44e51911a",
            "7dba9ddda5d54d839016ba237ecdf1c0",
            "433450b94ab241f8beae0356efe5fa2e",
            "803c014302964e05a6112c15db86f052",
            "7ecca74b9cc446a7ba4c3b0e2b5c334a",
            "259ea71cd3f04c0797b2abc2eebb4181",
            "0280f42bda5b4500a192ca3cd9f6e433",
            "f80dd22bb7824509b23ee1e23f8043d3",
            "ac7f5428b1d74713af96860c68310e76",
            "67e64b347ae7492581135a56ee1cb346",
            "6ff622d0602947ca91e8f0e37dfa21e1",
            "d0be4f515529404b8730cf54296eff39",
            "fc90f96438db41e5b2e75b56ef6efc16",
            "5866b8eb3cc140d48583dc655f5b8864",
            "051dd1386e9a4d53a6646613c67547b3",
            "0e09ed9785f6453a87b3b72297bb12aa",
            "1d9ed5c355f340c8adbaaac085bd7112",
            "b1b529bb09ee48e0a7a5b9be010ce0e2",
            "dc274fcb541047dbb31b35f1d47193f1",
            "b49159c82dc7403aa5f4774b759e65fa",
            "30c360c970e74f6d9113aa0a5538fb08",
            "12653a06081949cd9daeda23947e08dd",
            "f92b95ad550b4fea9380a33743607793",
            "d66c284b9aab41cc8134a15c99365884",
            "1906b4e93f114dd88f6eb85a406232dc",
            "085fa7fea8534a3eaaea5574485dfa03",
            "353124f3d1db4c979bc598ee156331e6",
            "bbde50b1a4eb4adbb009a45647e41bb3",
            "51ab9a3146124a0bbe702282988c0cc5",
            "7ce1aa30aecc4c39aec9ae7f4ba38d1a",
            "dbae37e2a47a492f83ea9ab4bd9ff7b1",
            "5b79c4f668c74351b4894a95feff2ec2",
            "ee5e5d0b8f7d4e0595691219ddbdeebd",
            "af36aa0863b449acabaa8a6f8512a3fc",
            "99e9d29de1e341a29c117b321ce5e079",
            "e2fc8e52bc4b40c68abf3fe52f4e074c",
            "ad077ed6ceab48c19caf5596e0cd0bcf",
            "3f91021a97c748c78adcc4e1a04f9857",
            "4b772f81f3574bff985d695cdc9fa9cb",
            "4c5647e54d5340aeab0cc1330c2ce0e9",
            "079a5543db41464daa99ad0fc756266c",
            "56223ed2a34f4c838c4f771fcec6ecd1",
            "0e60f0089d17466caf933afdc487c6f8",
            "35dac0ba153d4304a0fd1f809f40d590",
            "824c860f15564ec9b32fad4f9603cfee",
            "5e5cc0120de94d0898953ab4c7d860d1",
            "3315bec7eaf2422398986f8059b5a6a6",
            "500a6397d1f94422bf6713ffde6a2396",
            "0a5b8c4f47d24106923e2b06290cdfda",
            "8831ff50a54a476fae5586219841c65d"
          ]
        },
        "outputId": "33ba1feb-d09b-434c-ed53-879f01d8d57a"
      },
      "outputs": [
        {
          "output_type": "stream",
          "name": "stderr",
          "text": [
            "/usr/local/lib/python3.10/dist-packages/huggingface_hub/utils/_token.py:88: UserWarning: \n",
            "The secret `HF_TOKEN` does not exist in your Colab secrets.\n",
            "To authenticate with the Hugging Face Hub, create a token in your settings tab (https://huggingface.co/settings/tokens), set it as secret in your Google Colab and restart your session.\n",
            "You will be able to reuse this secret in all of your notebooks.\n",
            "Please note that authentication is recommended but still optional to access public models or datasets.\n",
            "  warnings.warn(\n"
          ]
        },
        {
          "output_type": "display_data",
          "data": {
            "text/plain": [
              "config.json:   0%|          | 0.00/557 [00:00<?, ?B/s]"
            ],
            "application/vnd.jupyter.widget-view+json": {
              "version_major": 2,
              "version_minor": 0,
              "model_id": "81f58cd35be14a25b024f80fe0d2f8e3"
            }
          },
          "metadata": {}
        },
        {
          "output_type": "display_data",
          "data": {
            "text/plain": [
              "pytorch_model.bin:   0%|          | 0.00/543M [00:00<?, ?B/s]"
            ],
            "application/vnd.jupyter.widget-view+json": {
              "version_major": 2,
              "version_minor": 0,
              "model_id": "0280f42bda5b4500a192ca3cd9f6e433"
            }
          },
          "metadata": {}
        },
        {
          "output_type": "display_data",
          "data": {
            "text/plain": [
              "vocab.txt:   0%|          | 0.00/895k [00:00<?, ?B/s]"
            ],
            "application/vnd.jupyter.widget-view+json": {
              "version_major": 2,
              "version_minor": 0,
              "model_id": "b1b529bb09ee48e0a7a5b9be010ce0e2"
            }
          },
          "metadata": {}
        },
        {
          "output_type": "display_data",
          "data": {
            "text/plain": [
              "bpe.codes:   0%|          | 0.00/1.14M [00:00<?, ?B/s]"
            ],
            "application/vnd.jupyter.widget-view+json": {
              "version_major": 2,
              "version_minor": 0,
              "model_id": "51ab9a3146124a0bbe702282988c0cc5"
            }
          },
          "metadata": {}
        },
        {
          "output_type": "display_data",
          "data": {
            "text/plain": [
              "tokenizer.json:   0%|          | 0.00/3.13M [00:00<?, ?B/s]"
            ],
            "application/vnd.jupyter.widget-view+json": {
              "version_major": 2,
              "version_minor": 0,
              "model_id": "4c5647e54d5340aeab0cc1330c2ce0e9"
            }
          },
          "metadata": {}
        }
      ],
      "source": [
        "model = AutoModel.from_pretrained(\"vinai/phobert-base\")\n",
        "tokenizer = AutoTokenizer.from_pretrained(\"vinai/phobert-base\", add_special_token=True)\n"
      ]
    },
    {
      "cell_type": "code",
      "source": [
        "#@title parameters\n",
        "lr = 1e-6\n",
        "batch_size = 8\n",
        "pos_class = 20\n",
        "max_epochs = 20\n",
        "ner_class = 8"
      ],
      "metadata": {
        "id": "L0HkHPMet0x3",
        "cellView": "form"
      },
      "execution_count": null,
      "outputs": []
    },
    {
      "cell_type": "code",
      "source": [
        "#@title read file\n",
        "words = []\n",
        "labels = []\n",
        "\n",
        "# Đọc từng dòng từ file\n",
        "with open(\"pos_train.txt\", \"r\", encoding=\"utf-8\") as file:\n",
        "    for line in file:\n",
        "        line = line.strip()  # Loại bỏ ký tự xuống dòng\n",
        "        if line:  # Kiểm tra nếu dòng không rỗng\n",
        "            word, label = line.split(\"\\t\")  # Tách từ và nhãn bằng dấu tab\n",
        "            words.append(word)\n",
        "            labels.append(label)\n",
        "\n",
        "# In ra một số từ và nhãn để kiểm tra\n",
        "print(\"Words:\", words[:10])\n",
        "print(\"Labels:\", labels[:10])\n"
      ],
      "metadata": {
        "id": "ClmLCnbdriek",
        "cellView": "form",
        "colab": {
          "base_uri": "https://localhost:8080/"
        },
        "outputId": "db29ba16-8483-4291-da12-38d161c10707"
      },
      "execution_count": null,
      "outputs": [
        {
          "output_type": "stream",
          "name": "stdout",
          "text": [
            "Words: ['Hải_tặc', 'eo_biển', 'Malacca', '(', 'kỳ', '1', ')', ':', 'Eo_biển', 'không']\n",
            "Labels: ['N', 'N', 'Np', 'CH', 'N', 'M', 'CH', 'CH', 'N', 'R']\n"
          ]
        }
      ]
    },
    {
      "cell_type": "code",
      "source": [
        "ner_sentences = []\n",
        "ner_labels = []\n",
        "\n",
        "# Đọc từng dòng từ file\n",
        "with open(\"ner_train.txt\", \"r\", encoding=\"utf-8\") as file:\n",
        "    sentence, label = [],[]\n",
        "\n",
        "    for line in file:\n",
        "        line = line.strip()  # Loại bỏ ký tự xuống dòng\n",
        "        if line:  # Kiểm tra nếu dòng không rỗng\n",
        "            word, tag = line.split(\"\\t\")  # Tách từ và nhãn bằng dấu tab\n",
        "            sentence.append(word)\n",
        "            label.append(tag)\n",
        "        else:\n",
        "            ner_sentences.append(sentence)\n",
        "            ner_labels.append(label)\n",
        "            sentence, label = [],[]\n",
        "\n",
        "# In ra một số từ và nhãn để kiểm tra\n",
        "print(\"Words:\", ner_sentences[10])\n",
        "print(\"Labels:\", ner_labels[10])\n",
        "print(len(ner_sentences))\n"
      ],
      "metadata": {
        "colab": {
          "base_uri": "https://localhost:8080/"
        },
        "id": "On0aO48WK26k",
        "outputId": "0cf98ebe-e913-4e25-9cb9-db6f475c7b75"
      },
      "execution_count": null,
      "outputs": [
        {
          "output_type": "stream",
          "name": "stdout",
          "text": [
            "Words: ['Cuộc', 'hành_trình', 'như', 'dài', 'ra', 'khi', 'chúng_tôi', 'không_thể', 'đón', 'taxi', 'đi', 'về', 'miền', 'nam', 'mà', 'phải', 'chuyển', 'sang', 'xe_buýt', ',', 'băng_băng', 'đi', 'đến', 'cuối', 'ngày', 'tới', 'Singapore', '.']\n",
            "Labels: ['O', 'O', 'O', 'O', 'O', 'O', 'O', 'O', 'O', 'O', 'O', 'O', 'O', 'O', 'O', 'O', 'O', 'O', 'O', 'O', 'O', 'O', 'O', 'O', 'O', 'O', 'B-LOC', 'O']\n",
            "100\n"
          ]
        }
      ]
    },
    {
      "cell_type": "code",
      "source": [
        "print(np.unique([x for ner_label in ner_labels for x in ner_label]))"
      ],
      "metadata": {
        "colab": {
          "base_uri": "https://localhost:8080/"
        },
        "id": "SN4Okck-MZAY",
        "outputId": "f9ad964b-46df-4e2a-a5de-8cf078408b0e"
      },
      "execution_count": null,
      "outputs": [
        {
          "output_type": "stream",
          "name": "stdout",
          "text": [
            "['B-LOC' 'B-MISC' 'B-ORG' 'B-PER' 'I-LOC' 'I-MISC' 'I-ORG' 'O']\n"
          ]
        }
      ]
    },
    {
      "cell_type": "code",
      "source": [
        "#@title preprocessing\n",
        "# Đếm số nhãn duy nhất\n",
        "unique_labels = np.unique(labels)\n",
        "pos_class = len(unique_labels)\n",
        "\n",
        "# Tạo dictionary để ánh xạ từ nhãn sang chỉ mục\n",
        "label_to_index = {label: i for i, label in enumerate(unique_labels)}\n",
        "\n",
        "# Tạo danh sách tensor one-hot encoding cho mỗi nhãn\n",
        "one_hot_labels = []\n",
        "for label in labels:\n",
        "    # Tạo tensor one-hot với tất cả giá trị ban đầu là 0\n",
        "    one_hot = np.zeros(pos_class)\n",
        "    # Thiết lập giá trị tại chỉ mục tương ứng với nhãn thành 1\n",
        "    one_hot[label_to_index[label]] = 1\n",
        "    # Chuyển đổi sang tensor và thêm vào danh sách\n",
        "    one_hot_labels.append(torch.tensor(one_hot))\n",
        "\n",
        "# In ra số nhãn duy nhất và một số tensor one-hot\n",
        "print(\"Number of unique labels:\", pos_class)\n",
        "print(\"One-hot encoding for first label:\", one_hot_labels[0])\n"
      ],
      "metadata": {
        "colab": {
          "base_uri": "https://localhost:8080/"
        },
        "id": "6y6tS6Ebs2aP",
        "outputId": "cbb536a6-815c-4933-a1a9-a393ccae280f",
        "cellView": "form"
      },
      "execution_count": null,
      "outputs": [
        {
          "output_type": "stream",
          "name": "stdout",
          "text": [
            "Number of unique labels: 20\n",
            "One-hot encoding for first label: tensor([0., 0., 0., 0., 0., 0., 0., 0., 1., 0., 0., 0., 0., 0., 0., 0., 0., 0.,\n",
            "        0., 0.], dtype=torch.float64)\n"
          ]
        }
      ]
    },
    {
      "cell_type": "code",
      "source": [
        "#@title unique ner labels\n",
        "flat_ner_labels = [x for ner_label in ner_labels for x in ner_label]\n",
        "unique_ner_labels = np.unique(flat_ner_labels)\n",
        "ner_class = len(unique_ner_labels)\n",
        "\n",
        "# Tạo dictionary để ánh xạ từ nhãn sang chỉ mục\n",
        "ner_index = {label: i for i, label in enumerate(unique_ner_labels)}\n",
        "\n",
        "# # Tạo danh sách tensor one-hot encoding cho mỗi nhãn\n",
        "# one_hot_labels = []\n",
        "# for label in labels:\n",
        "#     # Tạo tensor one-hot với tất cả giá trị ban đầu là 0\n",
        "#     one_hot = np.zeros(num_unique_labels)\n",
        "#     # Thiết lập giá trị tại chỉ mục tương ứng với nhãn thành 1\n",
        "#     one_hot[label_to_index[label]] = 1\n",
        "#     # Chuyển đổi sang tensor và thêm vào danh sách\n",
        "#     one_hot_labels.append(torch.tensor(one_hot))\n",
        "\n",
        "print(ner_index)\n"
      ],
      "metadata": {
        "id": "hDEfWiE2No9U",
        "colab": {
          "base_uri": "https://localhost:8080/"
        },
        "outputId": "b50a7b5b-4150-4672-b45f-ccf98b909a1a"
      },
      "execution_count": null,
      "outputs": [
        {
          "output_type": "stream",
          "name": "stdout",
          "text": [
            "{'B-LOC': 0, 'B-MISC': 1, 'B-ORG': 2, 'B-PER': 3, 'I-LOC': 4, 'I-MISC': 5, 'I-ORG': 6, 'O': 7}\n"
          ]
        }
      ]
    },
    {
      "cell_type": "code",
      "source": [
        "#@title pos model\n",
        "class POS_Tagging(nn.Module):\n",
        "    def __init__(self, tokenizer, model, pos_class, d_model=768):\n",
        "        super(POS_Tagging, self).__init__()\n",
        "        self.linear = nn.Linear(d_model, pos_class)\n",
        "        self.model = model\n",
        "        self.tokenizer = tokenizer\n",
        "\n",
        "    def forward(self, token_ids):\n",
        "        # token_ids = self.tokenizer.encode(token, add_special_tokens=True)  # Mã hóa token thành token IDs\n",
        "        input_ids = torch.tensor(token_ids)\n",
        "        if input_ids.dim() == 1:\n",
        "            input_ids = input_ids.unsqueeze(0)\n",
        "\n",
        "        with torch.no_grad():\n",
        "            features = self.model(input_ids)  # Models outputs are now tuples\n",
        "\n",
        "        embedding = features.last_hidden_state.mean(dim=1)\n",
        "        return embedding, nn.Softmax(dim=-1)(self.linear(embedding))\n",
        "\n",
        "\n",
        "# pos_model = POS_Tagging(tokenizer, model, num_tags).to(device)\n",
        "# token = \"đó\"\n",
        "# token = token.to(device)\n",
        "# output_probs = pos_model(token)\n",
        "# print(output_probs)\n"
      ],
      "metadata": {
        "id": "NZkF-JAubGgj"
      },
      "execution_count": null,
      "outputs": []
    },
    {
      "cell_type": "code",
      "source": [
        "#@title ner model\n",
        "class NER(nn.Module):\n",
        "    def __init__(self, model, tokenizer, pos_class, ner_class, d_model=768):\n",
        "        super().__init__()\n",
        "        self.tokenizer = tokenizer\n",
        "        self.ner_class = ner_class\n",
        "        self.model = model\n",
        "        self.pos_tagging = POS_Tagging(tokenizer, model, pos_class)\n",
        "        self.linear1 = nn.Linear(pos_class, d_model)\n",
        "        self.linear2 = nn.Linear(2*d_model, ner_class)\n",
        "        self.crf = CRF(ner_class)\n",
        "\n",
        "    def forward(self, inputs, labels):   # tokens are already padded   inputs: encoded already, (1, max_seq_len),   labels: (1, max_seq_len)\n",
        "        seq_len = len(inputs)\n",
        "        emissions, tags = [], []\n",
        "        for input in inputs:\n",
        "            embedding, p = self.pos_tagging.to(device)(input)\n",
        "            t = self.linear1.to(device)(p)\n",
        "            v = torch.cat((embedding, t), dim=1)\n",
        "            h = self.linear2.to(device)(v)\n",
        "            emissions.append(torch.tensor(h))\n",
        "\n",
        "        emissions = torch.stack(emissions)\n",
        "        for label in labels:\n",
        "            tags.append(label)\n",
        "        # print(tags)\n",
        "        # print(len(tags), len(tags[0]))\n",
        "        # tags = torch.tensor(tags.squeeze()).unsqueeze(1)\n",
        "        tags = torch.stack(tags)\n",
        "        # print(tags.size())\n",
        "        '''\n",
        "        tags: (seq_len, batch_size)\n",
        "        emissions: (seq_len, batch_size, pos_class)\n",
        "        '''\n",
        "\n",
        "        # return self.crf(emissions.to(device), tags.to(device))\n",
        "        return emissions, tags\n",
        "\n"
      ],
      "metadata": {
        "id": "HmBUTfjFsztP"
      },
      "execution_count": null,
      "outputs": []
    },
    {
      "cell_type": "code",
      "source": [
        "#@title joint model\n",
        "class MyModel(nn.Module):\n",
        "    def __init__(self , model, tokenizer, pos_class, ner_class):\n",
        "        super(MyModel , self).__init__()\n",
        "        self.pos_model = pos_model\n",
        "        self.ner = ner\n",
        "\n",
        "    def forward(self, pos_inputs, ner_inputs, ner_labels):\n",
        "        embedding, outputs = pos_model(pos_inputs.long())\n",
        "        emissions, tags = ner(ner_inputs, ner_labels)\n",
        "        return outputs, emissions, tags"
      ],
      "metadata": {
        "id": "5wJW8mQTr5e-"
      },
      "execution_count": null,
      "outputs": []
    },
    {
      "cell_type": "code",
      "source": [
        "#@title pos dataset\n",
        "class PosDataset(Dataset):\n",
        "    def __init__(self, words, labels, max_len_sequence):\n",
        "        self.words = words\n",
        "        self.labels = labels\n",
        "        self.max_len_sequence = max_len_sequence\n",
        "        self.tokenizer = tokenizer\n",
        "        self.pad_id = 0\n",
        "    def __len__(self):\n",
        "        return len(self.words)\n",
        "    def __getitem__(self, idx):\n",
        "        data = {}\n",
        "        pad = torch.tensor([-1])\n",
        "        word = self.tokenizer.encode(self.words[idx], add_special_tokens=True, return_tensors='pt')\n",
        "        label = torch.tensor(self.labels[idx])\n",
        "        if len(word) > self.max_len_sequence :\n",
        "            word = word[:self.max_len_sequence]\n",
        "        else :\n",
        "            len_pad = self.max_len_sequence - word.size(1)\n",
        "            pad_vector = torch.tensor([0]*len_pad)\n",
        "            word = torch.cat((word.clone().detach().view(-1), pad_vector))\n",
        "        return word, label"
      ],
      "metadata": {
        "id": "zoq6OKOmsG24"
      },
      "execution_count": null,
      "outputs": []
    },
    {
      "cell_type": "code",
      "source": [
        "#@title ner dataset\n",
        "class NERDataset(Dataset):\n",
        "    def __init__(self, tokenizer, ner_sentences, ner_labels, max_len_sequence):\n",
        "        self.ner_sentences = ner_sentences\n",
        "        self.ner_labels = ner_labels\n",
        "        self.max_len_sequence = max_len_sequence\n",
        "        self.tokenizer = tokenizer\n",
        "        self.pad_id = 0\n",
        "\n",
        "    def __len__(self):\n",
        "        return len(self.ner_sentences)\n",
        "\n",
        "    def __getitem__(self, idx):\n",
        "        ner_sentence, ner_label = self.ner_sentences[idx], self.ner_labels[idx]\n",
        "        max_sentence_length = self.max_len_sequence\n",
        "        token_ids_list = []\n",
        "        for tok in ner_sentence:\n",
        "            token_ids = torch.tensor(self.tokenizer.encode(tok, add_special_tokens=True))\n",
        "            if (token_ids.size(0)) > 8 :\n",
        "                token_ids = token_ids[:8]\n",
        "            else :\n",
        "                len_pad = 8 - token_ids.size(0)\n",
        "                pad_vector = torch.tensor([0]*len_pad)\n",
        "                token_ids = torch.cat((token_ids.clone().detach().view(-1), pad_vector))\n",
        "            token_ids_list.append(token_ids)\n",
        "\n",
        "        if len(token_ids_list) < max_sentence_length:\n",
        "            for i in range(max_sentence_length - len(token_ids_list)):\n",
        "                token_ids_list.append(torch.tensor([0, 0, 0, 0, 0, 0, 0, 0]))\n",
        "        else:\n",
        "            token_ids_list = token_ids_list[:max_sentence_length]\n",
        "        # Chuyển danh sách token_ids thành tensor\n",
        "        padded_token_ids = torch.stack(token_ids_list).to(device)\n",
        "        # print(padded_token_ids.size())\n",
        "\n",
        "        # Đảm bảo ner_label là một danh sách các nhãn\n",
        "        ner_label_ids = [ner_index[label] for label in ner_label]\n",
        "\n",
        "        padded_ner_label_ids = ner_label_ids + [self.pad_id] * (max_sentence_length - len(ner_label_ids))\n",
        "\n",
        "        padded_ner_label_ids = padded_ner_label_ids[:max_sentence_length]\n",
        "\n",
        "        padded_ner_label_ids = torch.tensor(padded_ner_label_ids).to(device)\n",
        "\n",
        "        return padded_token_ids, padded_ner_label_ids\n",
        "\n",
        "# ner_dataset = NERDataset(tokenizer, ner_sentences, ner_labels, max_len_sequence=50)\n",
        "# for i in range(len(ner_dataset)):\n",
        "#     sentence, label = ner_dataset[i]   # __getitem__ method is called\n",
        "#     print(sentence.size(), label.size())\n",
        "#     break\n"
      ],
      "metadata": {
        "id": "XTHCJlEWCZtG",
        "colab": {
          "base_uri": "https://localhost:8080/"
        },
        "cellView": "form",
        "outputId": "ddce743b-9c1c-43ae-f5bf-2ce06065cdd0"
      },
      "execution_count": null,
      "outputs": [
        {
          "output_type": "stream",
          "name": "stdout",
          "text": [
            "torch.Size([50, 8]) torch.Size([50])\n"
          ]
        }
      ]
    },
    {
      "cell_type": "code",
      "source": [
        "#@title prepare for training pos model\n",
        "device = torch.device(\"cuda:0\" if torch.cuda.is_available() else \"cpu\")\n",
        "pos_model = POS_Tagging(tokenizer, model, pos_class).to(device)\n",
        "pos_dataset = PosDataset(words, one_hot_labels, 8)\n",
        "pos_loader = DataLoader(pos_dataset, batch_size=batch_size, shuffle=True)\n",
        "criterion = nn.CrossEntropyLoss()\n",
        "optimizer = optim.AdamW(pos_model.parameters(), lr=lr)   # dcm same bugggggggggggg\n"
      ],
      "metadata": {
        "id": "CEOgyzOJxRl_"
      },
      "execution_count": null,
      "outputs": []
    },
    {
      "cell_type": "code",
      "source": [
        "#@title prepare for training ner model\n",
        "ner = NER(model, tokenizer, pos_class, ner_class).to(device)\n",
        "ner_dataset = NERDataset(tokenizer, ner_sentences, ner_labels, max_len_sequence=50)\n",
        "ner_loader = DataLoader(ner_dataset, batch_size=batch_size, shuffle=True)\n",
        "criterion = nn.CrossEntropyLoss()\n",
        "optimizer = optim.AdamW(pos_model.parameters(), lr=lr)"
      ],
      "metadata": {
        "id": "o00kPvghqbhW"
      },
      "execution_count": null,
      "outputs": []
    },
    {
      "cell_type": "code",
      "source": [
        "#@title prepare data for training joint model\n",
        "device = torch.device(\"cuda:0\" if torch.cuda.is_available() else \"cpu\")\n",
        "\n",
        "pos_model = POS_Tagging(tokenizer, model, pos_class).to(device)\n",
        "pos_dataset = PosDataset(words, one_hot_labels, 8)\n",
        "pos_loader = DataLoader(pos_dataset, batch_size=batch_size, shuffle=True)\n",
        "\n",
        "ner = NER(model, tokenizer, pos_class, ner_class).to(device)\n",
        "ner_dataset = NERDataset(tokenizer, ner_sentences, ner_labels, max_len_sequence=50)\n",
        "ner_loader = DataLoader(ner_dataset, batch_size=batch_size, shuffle=True)\n",
        "\n",
        "my_model = MyModel(model, tokenizer, pos_class, ner_class)\n",
        "\n",
        "criterion = nn.CrossEntropyLoss()\n",
        "optimizer = optim.AdamW(pos_model.parameters(), lr=lr)"
      ],
      "metadata": {
        "id": "kDGQjyd2wzTM"
      },
      "execution_count": null,
      "outputs": []
    },
    {
      "cell_type": "code",
      "source": [
        "#@title check data\n",
        "for batch in ner_loader:\n",
        "    sentence, label = batch\n",
        "    print(sentence.size(), label.size())\n",
        "    break\n"
      ],
      "metadata": {
        "id": "TQEYpt2EuL3A",
        "colab": {
          "base_uri": "https://localhost:8080/"
        },
        "outputId": "9d096962-5407-437b-9662-1763114df022",
        "cellView": "form"
      },
      "execution_count": null,
      "outputs": [
        {
          "output_type": "stream",
          "name": "stdout",
          "text": [
            "torch.Size([32, 50, 8]) torch.Size([32, 50])\n"
          ]
        }
      ]
    },
    {
      "cell_type": "code",
      "source": [
        "#@title pos training\n",
        "for epoch in range(max_epochs):\n",
        "    pos_model.train()\n",
        "    running_loss = 0.0\n",
        "    for inputs, labels in pos_loader:\n",
        "        inputs = inputs.to(device)\n",
        "        labels = labels.to(device)\n",
        "        optimizer.zero_grad()\n",
        "        embedding, outputs = pos_model(inputs.long())\n",
        "        loss = criterion((outputs), (labels))\n",
        "        loss.backward()\n",
        "        optimizer.step()\n",
        "        running_loss += loss.item()\n",
        "    print(f\"Epoch {epoch+1}/{max_epochs}, Loss: {running_loss / len(pos_loader)}\")"
      ],
      "metadata": {
        "id": "zgYVznA8xQwt"
      },
      "execution_count": null,
      "outputs": []
    },
    {
      "cell_type": "code",
      "source": [
        "#@title ner training\n",
        "for epoch in range(max_epochs):\n",
        "    ner.train()\n",
        "    running_loss = 0.0\n",
        "    for inputs, labels in ner_loader:\n",
        "        inputs, labels = inputs.to(device), labels.to(device)\n",
        "\n",
        "        # Forward pass\n",
        "        emissions, tags = ner(inputs, labels)  # Tính toán emissions\n",
        "\n",
        "        # Tính toán loss từ CRF\n",
        "        loss = -ner.crf(emissions, labels)  # Sử dụng CRF để tính toán loss\n",
        "\n",
        "        # Lan truyền ngược và cập nhật tham số\n",
        "        optimizer.zero_grad()  # Đặt gradient về 0\n",
        "        loss.backward()  # Lan truyền ngược để tính toán gradient\n",
        "        optimizer.step()  # Cập nhật các tham số dựa trên gradient tính được\n",
        "\n",
        "        running_loss += loss.item()\n",
        "\n",
        "    # In mất mát trung bình cho epoch\n",
        "    print(f\"Epoch {epoch+1}/{max_epochs}, Loss: {running_loss / len(ner_loader)}\")"
      ],
      "metadata": {
        "id": "Lr1rQvrVoLoV"
      },
      "execution_count": null,
      "outputs": []
    },
    {
      "cell_type": "code",
      "source": [
        "#@title joint model training\n",
        "lambda1 = 0.7\n",
        "lambda2 = 1 - lambda1\n",
        "num_batch = min(len(pos_loader), len(ner_loader))\n",
        "\n",
        "for epoch in range(max_epochs):\n",
        "    my_model.train()\n",
        "    running_loss = 0.0\n",
        "    for i in range(num_batch):\n",
        "        optimizer.zero_grad()\n",
        "        pos_inputs, pos_labels = pos_loader[i]\n",
        "        ner_inputs, ner_labels = ner_loader[i]\n",
        "        pos_inputs, pos_labels, ner_inputs, ner_labels = pos_inputs.to(device), pos_labels.to(device), ner_inputs.to(device), ner_labels.to(device)\n",
        "\n",
        "        # Forward pass\n",
        "        emissions, tags = my_model.ner(ner_inputs, ner_labels)  # Tính toán emissions\n",
        "        embedding, outputs = my_model.pos_model(pos_inputs.long())\n",
        "\n",
        "        # Tính toán loss từ CRF\n",
        "        loss2 = -my_model.ner.crf(emissions, labels)  # Sử dụng CRF để tính toán loss\n",
        "        loss1 = criterion((outputs), (pos_labels))\n",
        "\n",
        "        loss = lambda1 * loss1 + lambda2 * loss2\n",
        "        loss.backward()  # Lan truyền ngược để tính toán gradient\n",
        "        optimizer.step()  # Cập nhật các tham số dựa trên gradient tính được\n",
        "\n",
        "        running_loss += loss.item()\n",
        "\n",
        "    # In mất mát trung bình cho epoch\n",
        "    print(f\"Epoch {epoch+1}/{max_epochs}, Loss: {running_loss / num_batch}\")\n",
        "\n"
      ],
      "metadata": {
        "colab": {
          "base_uri": "https://localhost:8080/",
          "height": 228
        },
        "id": "rlARHoGiwjXp",
        "outputId": "f90afb25-fc89-42ec-8a62-9714c6ff0483"
      },
      "execution_count": null,
      "outputs": [
        {
          "output_type": "error",
          "ename": "TypeError",
          "evalue": "'DataLoader' object is not subscriptable",
          "traceback": [
            "\u001b[0;31m---------------------------------------------------------------------------\u001b[0m",
            "\u001b[0;31mTypeError\u001b[0m                                 Traceback (most recent call last)",
            "\u001b[0;32m<ipython-input-80-96f37cdc733f>\u001b[0m in \u001b[0;36m<cell line: 6>\u001b[0;34m()\u001b[0m\n\u001b[1;32m      9\u001b[0m     \u001b[0;32mfor\u001b[0m \u001b[0mi\u001b[0m \u001b[0;32min\u001b[0m \u001b[0mrange\u001b[0m\u001b[0;34m(\u001b[0m\u001b[0mnum_batch\u001b[0m\u001b[0;34m)\u001b[0m\u001b[0;34m:\u001b[0m\u001b[0;34m\u001b[0m\u001b[0;34m\u001b[0m\u001b[0m\n\u001b[1;32m     10\u001b[0m         \u001b[0moptimizer\u001b[0m\u001b[0;34m.\u001b[0m\u001b[0mzero_grad\u001b[0m\u001b[0;34m(\u001b[0m\u001b[0;34m)\u001b[0m\u001b[0;34m\u001b[0m\u001b[0;34m\u001b[0m\u001b[0m\n\u001b[0;32m---> 11\u001b[0;31m         \u001b[0mpos_inputs\u001b[0m\u001b[0;34m,\u001b[0m \u001b[0mpos_labels\u001b[0m \u001b[0;34m=\u001b[0m \u001b[0mpos_loader\u001b[0m\u001b[0;34m[\u001b[0m\u001b[0mi\u001b[0m\u001b[0;34m]\u001b[0m\u001b[0;34m\u001b[0m\u001b[0;34m\u001b[0m\u001b[0m\n\u001b[0m\u001b[1;32m     12\u001b[0m         \u001b[0mner_inputs\u001b[0m\u001b[0;34m,\u001b[0m \u001b[0mner_labels\u001b[0m \u001b[0;34m=\u001b[0m \u001b[0mner_loader\u001b[0m\u001b[0;34m[\u001b[0m\u001b[0mi\u001b[0m\u001b[0;34m]\u001b[0m\u001b[0;34m\u001b[0m\u001b[0;34m\u001b[0m\u001b[0m\n\u001b[1;32m     13\u001b[0m         \u001b[0mpos_inputs\u001b[0m\u001b[0;34m,\u001b[0m \u001b[0mpos_labels\u001b[0m\u001b[0;34m,\u001b[0m \u001b[0mner_inputs\u001b[0m\u001b[0;34m,\u001b[0m \u001b[0mner_labels\u001b[0m \u001b[0;34m=\u001b[0m \u001b[0mpos_inputs\u001b[0m\u001b[0;34m.\u001b[0m\u001b[0mto\u001b[0m\u001b[0;34m(\u001b[0m\u001b[0mdevice\u001b[0m\u001b[0;34m)\u001b[0m\u001b[0;34m,\u001b[0m \u001b[0mpos_labels\u001b[0m\u001b[0;34m.\u001b[0m\u001b[0mto\u001b[0m\u001b[0;34m(\u001b[0m\u001b[0mdevice\u001b[0m\u001b[0;34m)\u001b[0m\u001b[0;34m,\u001b[0m \u001b[0mner_inputs\u001b[0m\u001b[0;34m.\u001b[0m\u001b[0mto\u001b[0m\u001b[0;34m(\u001b[0m\u001b[0mdevice\u001b[0m\u001b[0;34m)\u001b[0m\u001b[0;34m,\u001b[0m \u001b[0mner_labels\u001b[0m\u001b[0;34m.\u001b[0m\u001b[0mto\u001b[0m\u001b[0;34m(\u001b[0m\u001b[0mdevice\u001b[0m\u001b[0;34m)\u001b[0m\u001b[0;34m\u001b[0m\u001b[0;34m\u001b[0m\u001b[0m\n",
            "\u001b[0;31mTypeError\u001b[0m: 'DataLoader' object is not subscriptable"
          ]
        }
      ]
    },
    {
      "cell_type": "code",
      "source": [
        "#@title backup training option\n",
        "from itertools import zip_longest\n",
        "\n",
        "#@title joint model training\n",
        "lambda1 = 0.7\n",
        "lambda2 = 1 - lambda1\n",
        "\n",
        "for epoch in range(max_epochs):\n",
        "    my_model.train()\n",
        "    running_loss = 0.0\n",
        "    for pos_data, ner_data in zip_longest(pos_loader, ner_loader):\n",
        "        pos_inputs, pos_labels = pos_data if pos_data is not None else (None, None)\n",
        "        ner_inputs, ner_labels = ner_data if ner_data is not None else (None, None)\n",
        "\n",
        "        if pos_inputs is not None and ner_inputs is not None:\n",
        "            pos_inputs, pos_labels, ner_inputs, ner_labels = pos_inputs.to(device), pos_labels.to(device), ner_inputs.to(device), ner_labels.to(device)\n",
        "\n",
        "            # Forward pass\n",
        "            emissions, tags = my_model.ner(ner_inputs, ner_labels)  # Tính toán emissions\n",
        "            embedding, outputs = my_model.pos_model(pos_inputs.long())\n",
        "\n",
        "            # Tính toán loss từ CRF\n",
        "            loss2 = -my_model.ner.crf(emissions, ner_labels)  # Sử dụng CRF để tính toán loss\n",
        "            loss1 = criterion(outputs, pos_labels)\n",
        "\n",
        "            loss = lambda1 * loss1 + lambda2 * loss2\n",
        "            optimizer.zero_grad()  # Đặt gradient về 0\n",
        "            loss.backward()  # Lan truyền ngược để tính toán gradient\n",
        "            optimizer.step()  # Cập nhật các tham số dựa trên gradient tính được\n",
        "\n",
        "            running_loss += loss.item()\n",
        "\n",
        "    # In mất mát trung bình cho epoch\n",
        "    if running_loss != 0:\n",
        "        print(f\"Epoch {epoch+1}/{max_epochs}, Loss: {running_loss / num_batch}\")\n"
      ],
      "metadata": {
        "colab": {
          "base_uri": "https://localhost:8080/"
        },
        "id": "a2VqU3ff7TXM",
        "outputId": "9c5aa09a-1ac7-4d9f-93d4-670311abf2ea"
      },
      "execution_count": null,
      "outputs": [
        {
          "output_type": "stream",
          "name": "stderr",
          "text": [
            "<ipython-input-61-6ff85398cce3>:15: UserWarning: To copy construct from a tensor, it is recommended to use sourceTensor.clone().detach() or sourceTensor.clone().detach().requires_grad_(True), rather than torch.tensor(sourceTensor).\n",
            "  label = torch.tensor(self.labels[idx])\n",
            "<ipython-input-12-c5ad0d80dffc>:11: UserWarning: To copy construct from a tensor, it is recommended to use sourceTensor.clone().detach() or sourceTensor.clone().detach().requires_grad_(True), rather than torch.tensor(sourceTensor).\n",
            "  input_ids = torch.tensor(token_ids)\n",
            "<ipython-input-54-e8a40682294c>:21: UserWarning: To copy construct from a tensor, it is recommended to use sourceTensor.clone().detach() or sourceTensor.clone().detach().requires_grad_(True), rather than torch.tensor(sourceTensor).\n",
            "  emissions.append(torch.tensor(h))\n"
          ]
        },
        {
          "output_type": "stream",
          "name": "stdout",
          "text": [
            "Epoch 1/20, Loss: 253.78771754480326\n",
            "Epoch 2/20, Loss: 253.97604734416186\n",
            "Epoch 3/20, Loss: 253.8626478353372\n",
            "Epoch 4/20, Loss: 253.805952546459\n",
            "Epoch 5/20, Loss: 253.6457994736158\n",
            "Epoch 6/20, Loss: 253.4618034601212\n",
            "Epoch 7/20, Loss: 253.86360861131777\n",
            "Epoch 8/20, Loss: 253.56581575985135\n",
            "Epoch 9/20, Loss: 253.82692254208604\n",
            "Epoch 10/20, Loss: 253.6273654692448\n",
            "Epoch 11/20, Loss: 253.4686126300922\n",
            "Epoch 12/20, Loss: 253.77383320125247\n",
            "Epoch 13/20, Loss: 253.6154608685237\n",
            "Epoch 14/20, Loss: 253.64538769057165\n",
            "Epoch 15/20, Loss: 253.73908303655114\n",
            "Epoch 16/20, Loss: 253.694629948185\n",
            "Epoch 17/20, Loss: 253.9365615535241\n",
            "Epoch 18/20, Loss: 253.45045799888098\n",
            "Epoch 19/20, Loss: 253.51430823183972\n",
            "Epoch 20/20, Loss: 253.47302105999913\n"
          ]
        }
      ]
    },
    {
      "cell_type": "code",
      "source": [
        "#@title test model\n",
        "inputs, labels = ner_dataset[0]\n",
        "print(inputs.size(), labels.size())\n",
        "ner = NER(model, tokenizer, pos_class, ner_class)\n",
        "a = ner.to(device)(inputs.to(device), labels.to(device))\n",
        "print(a)"
      ],
      "metadata": {
        "id": "TA7kPT0zuV2l",
        "cellView": "form"
      },
      "execution_count": null,
      "outputs": []
    },
    {
      "cell_type": "code",
      "source": [
        "#@title example\n",
        "import torch\n",
        "\n",
        "# Danh sách của 50 tensor có kích thước (3,)\n",
        "list_of_tensors = [torch.randn(3) for _ in range(50)]\n",
        "\n",
        "# Chuyển đổi danh sách thành một tensor\n",
        "stacked_tensor = torch.stack(list_of_tensors)\n",
        "\n",
        "# Kiểm tra kích thước của tensor mới\n",
        "print(stacked_tensor.size())  # Kết quả: torch.Size([50, 3])\n"
      ],
      "metadata": {
        "colab": {
          "base_uri": "https://localhost:8080/"
        },
        "id": "m4lh8_PWrD7m",
        "outputId": "209b1141-576a-4020-ab54-2648ba95d882",
        "cellView": "form"
      },
      "execution_count": null,
      "outputs": [
        {
          "output_type": "stream",
          "name": "stdout",
          "text": [
            "torch.Size([50, 3])\n"
          ]
        }
      ]
    }
  ]
}