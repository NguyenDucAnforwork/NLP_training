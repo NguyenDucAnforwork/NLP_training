{
  "cells": [
    {
      "cell_type": "markdown",
      "metadata": {
        "id": "view-in-github",
        "colab_type": "text"
      },
      "source": [
        "<a href=\"https://colab.research.google.com/github/NguyenDucAnforwork/NLP_training/blob/main/Copy_of_HAN.ipynb\" target=\"_parent\"><img src=\"https://colab.research.google.com/assets/colab-badge.svg\" alt=\"Open In Colab\"/></a>"
      ]
    },
    {
      "cell_type": "markdown",
      "source": [
        "## This dataset is fetched from:\n",
        "https://www.kaggle.com/datasets/jarupula/yahoo-answers-dataset\n",
        "\n",
        "## I use pretrained model Glove for vector embeddings with 50 dimensions"
      ],
      "metadata": {
        "id": "pjb6thKmlarz"
      }
    },
    {
      "cell_type": "code",
      "source": [
        "ls"
      ],
      "metadata": {
        "colab": {
          "base_uri": "https://localhost:8080/"
        },
        "id": "GwpIMQk02m5_",
        "outputId": "2b245431-03f7-416b-a79d-ce6beae49230"
      },
      "execution_count": 1,
      "outputs": [
        {
          "output_type": "stream",
          "name": "stdout",
          "text": [
            "glove.6B.50d.txt  \u001b[0m\u001b[01;34msample_data\u001b[0m/  test.csv  train.csv\n"
          ]
        }
      ]
    },
    {
      "cell_type": "code",
      "execution_count": 2,
      "metadata": {
        "id": "exhzNDTq3wc_",
        "collapsed": true,
        "cellView": "form",
        "colab": {
          "base_uri": "https://localhost:8080/"
        },
        "outputId": "11680410-556d-4e3b-dcb7-caa4ec29f052"
      },
      "outputs": [
        {
          "output_type": "stream",
          "name": "stdout",
          "text": [
            "Requirement already satisfied: gensim in /usr/local/lib/python3.10/dist-packages (4.3.2)\n",
            "Requirement already satisfied: numpy>=1.18.5 in /usr/local/lib/python3.10/dist-packages (from gensim) (1.25.2)\n",
            "Requirement already satisfied: scipy>=1.7.0 in /usr/local/lib/python3.10/dist-packages (from gensim) (1.11.4)\n",
            "Requirement already satisfied: smart-open>=1.8.1 in /usr/local/lib/python3.10/dist-packages (from gensim) (7.0.4)\n",
            "Requirement already satisfied: wrapt in /usr/local/lib/python3.10/dist-packages (from smart-open>=1.8.1->gensim) (1.14.1)\n"
          ]
        }
      ],
      "source": [
        "#@title install necessary libraries\n",
        "!pip install gensim"
      ]
    },
    {
      "cell_type": "code",
      "source": [
        "#@title configuration\n",
        "config = {\n",
        "    \"max_num_sent\" : 4,\n",
        "    \"max_sent_len\" : 64,\n",
        "    \"embed_dim\" : 50,\n",
        "    \"batch_size\" : 16,\n",
        "    \"sent_hidden_size\" : 25,\n",
        "    \"doc_hidden_size\" : 25,\n",
        "    \"context_size1\" : 20,\n",
        "    \"context_size2\" : 20,\n",
        "    \"hidden_size\" : 20,\n",
        "    \"num_class\" : 10\n",
        "}"
      ],
      "metadata": {
        "id": "jwzFjP1GUNtw"
      },
      "execution_count": 3,
      "outputs": []
    },
    {
      "cell_type": "code",
      "execution_count": 4,
      "metadata": {
        "id": "M5WHVqrA323g",
        "cellView": "form"
      },
      "outputs": [],
      "source": [
        "#@title import libraries + declaring necessary parameters\n",
        "import copy\n",
        "import torch\n",
        "import torch.nn as nn\n",
        "import torch.nn.functional as F\n",
        "import gensim.downloader as api\n",
        "import numpy as np\n",
        "from torch.nn.utils.rnn import pad_sequence\n",
        "import re, nltk\n",
        "import torch.optim as optim\n",
        "import pandas as pd\n",
        "import matplotlib.pyplot as plt\n",
        "import csv\n",
        "import nltk\n",
        "from torchvision import models\n",
        "from torchsummary import summary\n",
        "from bs4 import BeautifulSoup\n",
        "from torch.utils.data import Dataset, DataLoader"
      ]
    },
    {
      "cell_type": "markdown",
      "source": [
        "### read data + pretrained model\n"
      ],
      "metadata": {
        "id": "uwzlt-PfE2Hp"
      }
    },
    {
      "cell_type": "code",
      "source": [
        "# convert word to vector embedding from pretrained model\n",
        "file_path = './glove.6B.50d.txt'\n",
        "\n",
        "vocab = {}\n",
        "\n",
        "with open(file_path, 'r', encoding='utf-8') as file:\n",
        "    for line in file:\n",
        "        parts = line.strip().split()\n",
        "        word = parts[0]\n",
        "\n",
        "        vector = torch.tensor([float(val) if val != '-' else 0 for val in parts[1:]])\n",
        "        vocab[word] = vector"
      ],
      "metadata": {
        "id": "Fq-gTWv_IQcT"
      },
      "execution_count": 5,
      "outputs": []
    },
    {
      "cell_type": "code",
      "source": [
        "def read_data(datapath):\n",
        "    documents, labels = [], []\n",
        "    with open(datapath, encoding='latin-1') as csv_file:\n",
        "        reader = csv.reader(csv_file, quotechar='\"')\n",
        "        for idx, line in enumerate(reader):\n",
        "            if (line[0] == \"\"):\n",
        "                break\n",
        "            text = \"\"\n",
        "            for tx in line[1:]:\n",
        "                feature_cleaned = tx.replace('\"', '').replace('\\\\n', ' ').replace('\\\\', ' ').replace(',', ' ')\n",
        "                text += feature_cleaned.lower()\n",
        "                text += \" \"\n",
        "            label = int(line[0]) - 1\n",
        "\n",
        "            if text:\n",
        "                documents.append(text)\n",
        "            labels.append(label)\n",
        "    return documents, labels\n",
        "train_docs, train_labels = read_data(\"./train.csv\")\n",
        "test_docs, test_labels = read_data(\"./test.csv\")"
      ],
      "metadata": {
        "id": "poRX7Ql3YU_L"
      },
      "execution_count": 6,
      "outputs": []
    },
    {
      "cell_type": "markdown",
      "source": [
        "### preprocessing"
      ],
      "metadata": {
        "id": "-Y-IwapRE9I7"
      }
    },
    {
      "cell_type": "code",
      "source": [
        "# remove html tag, split doc into sentences; sentences into word => padding them to be the same length\n",
        "nltk.download('punkt')\n",
        "\n",
        "def split_into_sentences(document):\n",
        "    document = re.sub(r\"[\\[\\]']\", \"\", document)\n",
        "    sentences = re.split(r\"[.!?,]\", document)\n",
        "    sentences = [sentence.strip() for sentence in sentences if sentence.strip()]\n",
        "    return sentences\n",
        "\n",
        "\n",
        "def preprocess(document):\n",
        "    sentences = split_into_sentences(document)\n",
        "    sentence_embeddings = []\n",
        "\n",
        "    for sentence in sentences:\n",
        "        sentence_embedding = []\n",
        "        for word in sentence:\n",
        "            if word in vocab:\n",
        "              word_embedding = torch.tensor(vocab[word]).float()  # Load embedding from Glove model\n",
        "            else:\n",
        "              word_embedding = torch.randn(50)\n",
        "            sentence_embedding.append(torch.tensor(word_embedding))   # (sent_len, embed_size)\n",
        "\n",
        "        sentence_embeddings.append(torch.stack(sentence_embedding)) # (doc_len, sent_max_len, embed_size)\n",
        "\n",
        "    padded_document = pad_sequence(sentence_embeddings, batch_first=True)\n",
        "    return padded_document\n",
        "\n",
        "train_documents = [preprocess(document) for document in train_docs]\n",
        "test_documents = ([preprocess(document) for document in test_docs])\n",
        "\n",
        "# preprocessing(documents)  (5000, 10, 2000, 50)\n",
        "# print(documents)"
      ],
      "metadata": {
        "id": "Af9TmnOs3h7Q",
        "collapsed": true,
        "colab": {
          "base_uri": "https://localhost:8080/"
        },
        "outputId": "48fe917c-3c0e-4c43-e37a-e6e776eab575"
      },
      "execution_count": 7,
      "outputs": [
        {
          "output_type": "stream",
          "name": "stderr",
          "text": [
            "[nltk_data] Downloading package punkt to /root/nltk_data...\n",
            "[nltk_data]   Unzipping tokenizers/punkt.zip.\n",
            "<ipython-input-7-a4b9a3a032df>:19: UserWarning: To copy construct from a tensor, it is recommended to use sourceTensor.clone().detach() or sourceTensor.clone().detach().requires_grad_(True), rather than torch.tensor(sourceTensor).\n",
            "  word_embedding = torch.tensor(vocab[word]).float()  # Load embedding from Glove model\n",
            "<ipython-input-7-a4b9a3a032df>:22: UserWarning: To copy construct from a tensor, it is recommended to use sourceTensor.clone().detach() or sourceTensor.clone().detach().requires_grad_(True), rather than torch.tensor(sourceTensor).\n",
            "  sentence_embedding.append(torch.tensor(word_embedding))   # (sent_len, embed_size)\n"
          ]
        }
      ]
    },
    {
      "cell_type": "code",
      "source": [
        "print(train_documents[0].size())"
      ],
      "metadata": {
        "colab": {
          "base_uri": "https://localhost:8080/"
        },
        "id": "Y05EIuBRm8Vb",
        "outputId": "87db1d31-0c2e-43a8-d270-b67ac14b00dc"
      },
      "execution_count": null,
      "outputs": [
        {
          "output_type": "stream",
          "name": "stdout",
          "text": [
            "torch.Size([4, 64, 50])\n"
          ]
        }
      ]
    },
    {
      "cell_type": "code",
      "source": [
        "max_num_sent = config['max_num_sent']\n",
        "max_sent_len = config['max_sent_len']\n",
        "embed_size = config['embed_dim']\n",
        "\n",
        "def padding(documents):\n",
        "    max_num_sent = config['max_num_sent']\n",
        "    max_sent_len = config['max_sent_len']\n",
        "    embed_size = config['embed_dim']\n",
        "    for i, doc in enumerate(documents):\n",
        "        num_sent, sent_len, _ = doc.size()\n",
        "        pad_num_sent = max_num_sent - num_sent\n",
        "        pad_sent_len = max_sent_len - sent_len\n",
        "\n",
        "        if pad_num_sent > 0:\n",
        "            pad = torch.zeros(pad_num_sent, sent_len, embed_size)\n",
        "            documents[i] = torch.cat([doc, pad], dim=0)\n",
        "\n",
        "        else:\n",
        "            documents[i] = documents[i][:max_num_sent, :, :]\n",
        "        if pad_sent_len > 0:\n",
        "            pad = torch.zeros(max_num_sent, pad_sent_len, embed_size)\n",
        "            documents[i] = torch.cat([documents[i], pad], dim=1)\n",
        "        else:\n",
        "            documents[i] = documents[i][:, :max_sent_len, :]\n",
        "    return documents\n",
        "\n",
        "train_documents = padding(train_documents)\n",
        "test_documents = padding(test_documents)"
      ],
      "metadata": {
        "id": "9U7P9OqgbxIr",
        "collapsed": true
      },
      "execution_count": 10,
      "outputs": []
    },
    {
      "cell_type": "markdown",
      "source": [
        "### dataset + dataloader\n",
        "- size of a batch of data: (batch_size, max_doc_len, max_sent_len, embed_size) [16, 8, 64, 50]\n"
      ],
      "metadata": {
        "id": "N8j5jOGnFDIV"
      }
    },
    {
      "cell_type": "code",
      "source": [
        "class TextDataset(Dataset):\n",
        "    def __init__(self, documents, labels):\n",
        "        self.documents = documents\n",
        "        self.labels = labels\n",
        "        self.embed_size = 50\n",
        "\n",
        "    def __len__(self):\n",
        "        return len(self.documents)\n",
        "\n",
        "    def __getitem__(self, idx):\n",
        "        # print(\"index\", idx)\n",
        "        if idx >= 0 or idx < len(self.documents):\n",
        "            return {'idx': idx, 'document': self.documents[idx], 'label': self.labels[idx]}   # (num_sent, max_sent_len, embed_size)\n",
        "\n",
        "# Create custom Dataset objects\n",
        "train_dataset = TextDataset(train_documents, train_labels)\n",
        "valid_dataset = TextDataset(test_documents, test_labels)\n",
        "train_loader = DataLoader(train_dataset, batch_size=16, shuffle=True)\n",
        "valid_loader = DataLoader(valid_dataset, batch_size=16, shuffle=False)"
      ],
      "metadata": {
        "id": "DffOqNG7dS-5"
      },
      "execution_count": 11,
      "outputs": []
    },
    {
      "cell_type": "code",
      "source": [
        "for batch in train_loader:\n",
        "    sample_batch, sample_label = batch['document'], batch['label']\n",
        "    print(sample_batch.size(), sample_label.size())\n",
        "    break"
      ],
      "metadata": {
        "colab": {
          "base_uri": "https://localhost:8080/"
        },
        "id": "3EgPCaLNqlkT",
        "outputId": "758ee6c1-103d-4b81-c807-698b3cef6e23",
        "collapsed": true
      },
      "execution_count": 12,
      "outputs": [
        {
          "output_type": "stream",
          "name": "stdout",
          "text": [
            "torch.Size([16, 4, 64, 50]) torch.Size([16])\n"
          ]
        }
      ]
    },
    {
      "cell_type": "code",
      "source": [
        "print(sample_batch[:, 0, :, :].shape)"
      ],
      "metadata": {
        "colab": {
          "base_uri": "https://localhost:8080/"
        },
        "id": "hNWiWNZYSkwE",
        "outputId": "f7fab2d9-4ad8-4042-d3b3-ff8f41c1eb0f"
      },
      "execution_count": null,
      "outputs": [
        {
          "output_type": "stream",
          "name": "stdout",
          "text": [
            "torch.Size([16, 64, 50])\n"
          ]
        }
      ]
    },
    {
      "cell_type": "markdown",
      "source": [
        "### model architecture + model summary\n"
      ],
      "metadata": {
        "id": "_40eDp4NFKMh"
      }
    },
    {
      "cell_type": "code",
      "source": [
        "class WordEncoder(nn.Module): # (batch_size, max_sent_len, embed_dim)\n",
        "    def __init__(self, embed_dim=config['embed_dim'], hidden_size=config['hidden_size'], batch_size=config['batch_size']):\n",
        "        super(WordEncoder, self).__init__()\n",
        "        self.embed_dim = embed_dim\n",
        "        self.hidden_size = hidden_size\n",
        "        self.gru = nn.GRU(embed_dim, hidden_size, bidirectional=True, batch_first=True)\n",
        "        self.h_0 = nn.Parameter(torch.zeros(2, batch_size, hidden_size))\n",
        "\n",
        "    def forward(self, inputs):   # hidden state = [2, batch_size, hidden_size] cuz it's bidirectional\n",
        "        outputs, h_n = self.gru(inputs, self.h_0)\n",
        "        return outputs   # (batch_size, max_sent_len, 2 * hidden_size)"
      ],
      "metadata": {
        "id": "dh1CHcSmFX32"
      },
      "execution_count": 13,
      "outputs": []
    },
    {
      "cell_type": "code",
      "source": [
        "a = WordEncoder()\n",
        "out1 = a(sample_batch[:, 0, :, :])\n",
        "print(out1.shape)"
      ],
      "metadata": {
        "colab": {
          "base_uri": "https://localhost:8080/"
        },
        "id": "so0CkLfbRuGL",
        "outputId": "3b8856ed-7ae7-4da0-cb21-96f4987ddc8e"
      },
      "execution_count": 14,
      "outputs": [
        {
          "output_type": "stream",
          "name": "stdout",
          "text": [
            "torch.Size([16, 64, 40])\n"
          ]
        }
      ]
    },
    {
      "cell_type": "code",
      "source": [
        "class WordAttention(nn.Module):   # input_size = 2 * sent_hidden_size   |   sent_hidden_size = context_size\n",
        "    def __init__(self, input_size=2*config['hidden_size'], sent_hidden_size=config['sent_hidden_size']):\n",
        "        super(WordAttention, self).__init__()\n",
        "        self.sent_hidden_size = sent_hidden_size\n",
        "        self.score_weight_matrix = nn.Linear(input_size, sent_hidden_size, bias=True)\n",
        "        self.softmax = nn.Softmax(dim=1)\n",
        "        self.context_vector = nn.Parameter(torch.randn(sent_hidden_size, 1))\n",
        "\n",
        "    def forward(self, output_tensors):   # (batch_size, max_sent_length, 2*sent_hidden_size). notations are little bit confusing\n",
        "        u_i = torch.tanh(self.score_weight_matrix(output_tensors))   #  (batch_size, max_sent_length, context_size)\n",
        "        dot_product = torch.matmul(u_i, self.context_vector)  # (batch_size, max_sent_len)\n",
        "        a_i = nn.Softmax(dim=1)(dot_product)  # (batch_size, max_sent_len, 1)\n",
        "        s_i = (a_i * output_tensors).sum(dim=1)  # (batch_size, input_size)\n",
        "        return s_i"
      ],
      "metadata": {
        "id": "4PW_yFnLFKbf"
      },
      "execution_count": 15,
      "outputs": []
    },
    {
      "cell_type": "code",
      "source": [
        "b = WordAttention()\n",
        "out2 = b(out1)\n",
        "print(out2.shape)"
      ],
      "metadata": {
        "colab": {
          "base_uri": "https://localhost:8080/"
        },
        "id": "8IvfIfcUTBsr",
        "outputId": "21d53d21-6177-4097-c1fb-19a494b1e974"
      },
      "execution_count": 16,
      "outputs": [
        {
          "output_type": "stream",
          "name": "stdout",
          "text": [
            "torch.Size([16, 40])\n"
          ]
        }
      ]
    },
    {
      "cell_type": "code",
      "source": [
        "class SentenceEncoder(nn.Module):\n",
        "    def __init__(self, context_size1=2*config['hidden_size'], doc_hidden_units=config['doc_hidden_size']):  # (batch_size, max_doc_len, context_size1)\n",
        "        super(SentenceEncoder, self).__init__()\n",
        "        self.context_size1 = context_size1\n",
        "        self.gru = nn.GRU(context_size1, doc_hidden_units, bidirectional=True, batch_first=True)   # (batch_size, max_doc_len, (2 * doc_hidden_units))\n",
        "        self.h_0 = nn.Parameter(torch.zeros(2, config['batch_size'], doc_hidden_units))\n",
        "\n",
        "    def forward(self, inputs):\n",
        "        outputs, h_n = self.gru(inputs, self.h_0)\n",
        "        return outputs   # (batch_size, max_doc_len, 2 * doc_hidden_units)"
      ],
      "metadata": {
        "id": "RieLja0RV3Ud"
      },
      "execution_count": 17,
      "outputs": []
    },
    {
      "cell_type": "code",
      "source": [
        "outputs = []\n",
        "for i in range(sample_batch.shape[1]):\n",
        "    doc = sample_batch[:, i, :, :]\n",
        "    out1 = a(doc)\n",
        "    out2 = b(out1)\n",
        "    outputs.append(out2)\n",
        "outputs = torch.stack(outputs).transpose(0,1)\n",
        "print(outputs.shape)\n",
        "c = SentenceEncoder()\n",
        "out3 = c(outputs)\n",
        "print(out3.shape)"
      ],
      "metadata": {
        "colab": {
          "base_uri": "https://localhost:8080/"
        },
        "id": "U5vb17zZZJqf",
        "outputId": "fc1a68eb-ad0f-4127-ddd2-31adaceea2e1"
      },
      "execution_count": 18,
      "outputs": [
        {
          "output_type": "stream",
          "name": "stdout",
          "text": [
            "torch.Size([16, 4, 40])\n",
            "torch.Size([16, 4, 50])\n"
          ]
        }
      ]
    },
    {
      "cell_type": "code",
      "source": [
        "class SentenceAttention(nn.Module):\n",
        "    def __init__(self, input_size=2*config['doc_hidden_size'], hidden_size=config['context_size2']):\n",
        "      super(SentenceAttention, self).__init__()\n",
        "      self.hidden_size = hidden_size\n",
        "      self.score_weight_matrix = nn.Linear(input_size, hidden_size, bias=True)\n",
        "      self.softmax = nn.Softmax(dim=1)\n",
        "      self.context_vector = nn.Parameter(torch.randn(hidden_size, 1))\n",
        "\n",
        "    def forward(self, encoded_sent):   # (batch_size, max_doc_len, input_size)\n",
        "      u_i = torch.tanh(self.score_weight_matrix(encoded_sent))   # (batch_size, max_doc_len, hidden_size)\n",
        "      dot_product = torch.matmul(u_i, self.context_vector)  # (batch_size, max_doc_len)\n",
        "      a_i = nn.Softmax(dim=1)(dot_product)  # (batch_size, max_doc_len)\n",
        "      s_i = (a_i * encoded_sent).sum(dim=1) # (batch_size, input_size)\n",
        "      return s_i"
      ],
      "metadata": {
        "id": "HE40xP2KV9aG"
      },
      "execution_count": 19,
      "outputs": []
    },
    {
      "cell_type": "code",
      "source": [
        "d = SentenceAttention()\n",
        "out4 = d(out3)\n",
        "print(out4.shape)"
      ],
      "metadata": {
        "colab": {
          "base_uri": "https://localhost:8080/"
        },
        "id": "BXNCXGDkgeTS",
        "outputId": "882c2c4c-da07-4e4e-a6fb-9b864d1218bb"
      },
      "execution_count": 20,
      "outputs": [
        {
          "output_type": "stream",
          "name": "stdout",
          "text": [
            "torch.Size([16, 50])\n"
          ]
        }
      ]
    },
    {
      "cell_type": "code",
      "source": [
        "print(han())"
      ],
      "metadata": {
        "id": "lK617vnlCA5z"
      },
      "execution_count": null,
      "outputs": []
    },
    {
      "cell_type": "code",
      "source": [
        "class DocumentClassification(nn.Module):   # (batch_size, 2 * doc_hidden_units)\n",
        "    def __init__(self, input_size=2*config['doc_hidden_size'], num_class=config['num_class']):\n",
        "      super(DocumentClassification, self).__init__()\n",
        "      self.linear = nn.Linear(input_size, num_class, bias=True)\n",
        "    def forward(self, encoded_doc):\n",
        "      p = self.linear(encoded_doc)   # (batch_size, num_class)\n",
        "      p = nn.Softmax(dim=1)(p)\n",
        "      return p"
      ],
      "metadata": {
        "id": "yPrHEDXJWAWJ"
      },
      "execution_count": 21,
      "outputs": []
    },
    {
      "cell_type": "code",
      "source": [
        "print(out4.shape)\n",
        "e = DocumentClassification()\n",
        "out5 = e(out4)\n",
        "print(out5.shape)"
      ],
      "metadata": {
        "colab": {
          "base_uri": "https://localhost:8080/"
        },
        "collapsed": true,
        "id": "F_krNj2JiucX",
        "outputId": "c9df8dcf-f2a7-4610-b94c-b823d0883b00"
      },
      "execution_count": 22,
      "outputs": [
        {
          "output_type": "stream",
          "name": "stdout",
          "text": [
            "torch.Size([16, 50])\n",
            "torch.Size([16, 10])\n"
          ]
        }
      ]
    },
    {
      "cell_type": "code",
      "source": [
        "class HAN(nn.Module):\n",
        "    def __init__(self, embed_dim=config['embed_dim'], sent_hidden_size=config['sent_hidden_size'], doc_hidden_size=config['doc_hidden_size'], context_size1=config['context_size1'], context_size2=config['context_size2'], num_class=config['num_class']):\n",
        "        super(HAN, self).__init__()\n",
        "        self.word_encoder = WordEncoder(embed_size, sent_hidden_size)\n",
        "        self.word_att = WordAttention(2 * sent_hidden_size, context_size1)\n",
        "        self.sentence_encoder = SentenceEncoder(2 * sent_hidden_size, doc_hidden_size)\n",
        "        self.sentence_att = SentenceAttention(2 * doc_hidden_size, context_size2)\n",
        "        self.doc_classify = DocumentClassification(2 * doc_hidden_size, num_class)\n",
        "\n",
        "    def forward(self, inputs):   # (batch_size, max_doc_len, max_sent_len, embed_size)\n",
        "        document_embedding = []   # (max_doc_len, batch_size, 2 * sent_hidden_size)\n",
        "        for i in range(inputs.shape[1]):\n",
        "            sentences = inputs[:, i, :, :]\n",
        "            out1 = self.word_encoder(sentences)   # (batch_size, max_sent_len, 2 * sent_hidden_size)\n",
        "            out2 = self.word_att(out1)   # (batch_size, 2 * sent_hidden_size)\n",
        "            document_embedding.append(out2.clone())\n",
        "        document_embedding = torch.stack(document_embedding).transpose(0, 1)   # (batch_size, max_doc_len, 2 * sent_hidden_size)\n",
        "        encoded_document = self.sentence_encoder(document_embedding)\n",
        "        out = self.sentence_att(encoded_document)\n",
        "        predictions = self.doc_classify(out)\n",
        "        return predictions"
      ],
      "metadata": {
        "id": "dNGhz9-cWD7d"
      },
      "execution_count": 23,
      "outputs": []
    },
    {
      "cell_type": "code",
      "source": [
        "han = HAN(50, 25, 25, 20, 20, 10)\n",
        "print(han(sample_batch).shape)"
      ],
      "metadata": {
        "id": "Mjw-Hl4ma5NS"
      },
      "execution_count": null,
      "outputs": []
    },
    {
      "cell_type": "markdown",
      "source": [
        "### training loop\n"
      ],
      "metadata": {
        "id": "F43tKrXbFHBU"
      }
    },
    {
      "cell_type": "code",
      "source": [
        "import torch\n",
        "import torch.nn as nn\n",
        "import torch.optim as optim\n",
        "from tqdm import tqdm\n",
        "import matplotlib.pyplot as plt\n",
        "\n",
        "# Assuming HAN model and train_loader are already defined\n",
        "han = HAN()\n",
        "criterion = nn.CrossEntropyLoss()\n",
        "optimizer = optim.Adam(han.parameters(), lr=2e-3)\n",
        "\n",
        "num_epochs = 5\n",
        "previous_epoch_loss = float('inf')\n",
        "epoch_losses = []\n",
        "\n",
        "han.train()\n",
        "\n",
        "for epoch in range(num_epochs):\n",
        "    total_loss = 0\n",
        "    with tqdm(train_loader, unit=\"batch\") as tepoch:\n",
        "        for batch in tepoch:\n",
        "            tepoch.set_description(f\"Epoch {epoch+1}\")\n",
        "            optimizer.zero_grad()\n",
        "            documents, labels = batch['document'], batch['label']\n",
        "            outputs = han(documents)\n",
        "            encoded_labels = []\n",
        "            for label in labels:\n",
        "                ex = torch.zeros(10)\n",
        "                ex[int(label) - 1] = 1\n",
        "                encoded_labels.append(ex)\n",
        "            stacked_labels = torch.stack(encoded_labels)\n",
        "            loss = criterion(outputs, stacked_labels)\n",
        "            loss.backward()\n",
        "            optimizer.step()\n",
        "            total_loss += loss.item()\n",
        "            tepoch.set_postfix(loss=loss.item())\n",
        "\n",
        "    average_loss = total_loss / len(train_loader)\n",
        "    epoch_losses.append(average_loss)\n",
        "    print(f'Training loss: {average_loss}')\n",
        "\n",
        "    torch.save({\n",
        "    'epoch': num_epochs,\n",
        "    'model_state_dict': han.state_dict(),\n",
        "    'optimizer_state_dict': optimizer.state_dict(),\n",
        "    'loss': previous_epoch_loss,\n",
        "    }, 'checkpoint.pth')\n",
        "\n",
        "    if abs(previous_epoch_loss - average_loss) < 1e-5:\n",
        "        print(f'Stopping early at epoch {epoch+1} due to small loss change')\n",
        "        break\n",
        "\n",
        "    previous_epoch_loss = average_loss\n",
        "\n",
        "# Plotting the loss function\n",
        "plt.plot(epoch_losses, label='Training Loss')\n",
        "plt.xlabel('Epochs')\n",
        "plt.ylabel('Loss')\n",
        "plt.title('Training Loss over Epochs')\n",
        "plt.legend()\n",
        "plt.show()\n"
      ],
      "metadata": {
        "id": "Sr0C0WkYSoGA",
        "colab": {
          "base_uri": "https://localhost:8080/",
          "height": 646
        },
        "outputId": "8e7f677a-0e71-48d5-80b1-b0cdc77602e8"
      },
      "execution_count": 25,
      "outputs": [
        {
          "output_type": "stream",
          "name": "stderr",
          "text": [
            "Epoch 1: 100%|██████████| 625/625 [02:02<00:00,  5.09batch/s, loss=2.28]\n"
          ]
        },
        {
          "output_type": "stream",
          "name": "stdout",
          "text": [
            "Training loss: 2.209768660926819\n"
          ]
        },
        {
          "output_type": "stream",
          "name": "stderr",
          "text": [
            "Epoch 2: 100%|██████████| 625/625 [02:02<00:00,  5.10batch/s, loss=2.19]\n"
          ]
        },
        {
          "output_type": "stream",
          "name": "stdout",
          "text": [
            "Training loss: 2.205211556816101\n"
          ]
        },
        {
          "output_type": "stream",
          "name": "stderr",
          "text": [
            "Epoch 3: 100%|██████████| 625/625 [02:02<00:00,  5.10batch/s, loss=2.29]\n"
          ]
        },
        {
          "output_type": "stream",
          "name": "stdout",
          "text": [
            "Training loss: 2.2030170274734497\n"
          ]
        },
        {
          "output_type": "stream",
          "name": "stderr",
          "text": [
            "Epoch 4: 100%|██████████| 625/625 [02:02<00:00,  5.10batch/s, loss=2.34]\n"
          ]
        },
        {
          "output_type": "stream",
          "name": "stdout",
          "text": [
            "Training loss: 2.1938785856246947\n"
          ]
        },
        {
          "output_type": "stream",
          "name": "stderr",
          "text": [
            "Epoch 5: 100%|██████████| 625/625 [02:02<00:00,  5.10batch/s, loss=2.21]\n"
          ]
        },
        {
          "output_type": "stream",
          "name": "stdout",
          "text": [
            "Training loss: 2.182148483085632\n"
          ]
        },
        {
          "output_type": "display_data",
          "data": {
            "text/plain": [
              "<Figure size 640x480 with 1 Axes>"
            ],
            "image/png": "[encoded data removed]"
          },
          "metadata": {}
        }
      ]
    },
    {
      "cell_type": "code",
      "source": [
        "# Giả sử bạn đã huấn luyện xong một giai đoạn và muốn lưu lại trạng thái của mô hình và optimizer\n",
        "torch.save({\n",
        "    'epoch': num_epochs,\n",
        "    'model_state_dict': han.state_dict(),\n",
        "    'optimizer_state_dict': optimizer.state_dict(),\n",
        "    'loss': previous_epoch_loss,\n",
        "}, 'checkpoint.pth')\n"
      ],
      "metadata": {
        "id": "wb5gajaFis2v"
      },
      "execution_count": null,
      "outputs": []
    },
    {
      "cell_type": "code",
      "source": [
        "checkpoint = torch.load('checkpoint.pth')\n",
        "\n",
        "# Khởi tạo lại mô hình\n",
        "han.load_state_dict(checkpoint['model_state_dict'])\n",
        "\n",
        "# Khởi tạo optimizer mới (SGD) mà không tải trạng thái cũ\n",
        "optimizer = optim.Adam(han.parameters(), lr=2e-4)\n",
        "\n",
        "# Khởi động các biến cần thiết\n",
        "start_epoch = checkpoint['epoch']  # epoch bắt đầu từ epoch đã lưu\n",
        "previous_epoch_loss = checkpoint['loss']\n",
        "\n",
        "# Tiếp tục huấn luyện từ epoch đã lưu\n",
        "num_epochs = 20  # Số epoch bạn muốn huấn luyện thêm\n",
        "\n",
        "han.train()\n",
        "\n",
        "for epoch in range(start_epoch, start_epoch + num_epochs):\n",
        "    total_loss = 0\n",
        "    for batch in train_loader:\n",
        "        optimizer.zero_grad()\n",
        "        documents, labels = batch['document'], batch['label']\n",
        "        outputs = han(documents)\n",
        "\n",
        "        # Chuyển đổi labels thành one-hot encoding\n",
        "        encoded_labels = []\n",
        "        for label in labels:\n",
        "            ex = torch.zeros(10)\n",
        "            ex[int(label) - 1] = 1\n",
        "            encoded_labels.append(ex)\n",
        "        stacked_labels = torch.stack(encoded_labels)\n",
        "\n",
        "        loss = criterion(outputs, stacked_labels)\n",
        "        loss.backward()\n",
        "        optimizer.step()\n",
        "        total_loss += loss.item()\n",
        "\n",
        "    average_loss = total_loss / len(train_loader)\n",
        "    print(f'Training loss: {average_loss}')\n",
        "\n",
        "    # Kiểm tra điều kiện dừng\n",
        "    if abs(previous_epoch_loss - average_loss) < 1e-5:\n",
        "        print(f'Stopping early at epoch {epoch+1} due to small loss change')\n",
        "        break\n",
        "\n",
        "    # Cập nhật loss của epoch trước đó\n",
        "    previous_epoch_loss = average_loss\n",
        "\n",
        "    # Lưu checkpoint sau mỗi epoch nếu muốn\n",
        "    torch.save({\n",
        "        'epoch': epoch + 1,\n",
        "        'model_state_dict': han.state_dict(),\n",
        "        'optimizer_state_dict': optimizer.state_dict(),\n",
        "        'loss': previous_epoch_loss,\n",
        "    }, 'checkpoint2.pth')\n"
      ],
      "metadata": {
        "colab": {
          "base_uri": "https://localhost:8080/"
        },
        "id": "yEUMG942ivE3",
        "outputId": "a0336f81-35de-462f-8bde-6c420e0c4e5d"
      },
      "execution_count": null,
      "outputs": [
        {
          "output_type": "stream",
          "name": "stdout",
          "text": [
            "Training loss: 1.5166080737113952\n",
            "Training loss: 1.515678882598877\n",
            "Training loss: 1.5136768174171449\n",
            "Training loss: 1.5116147112846374\n",
            "Training loss: 1.5099074578285216\n",
            "Training loss: 1.5096896624565124\n",
            "Training loss: 1.5084106183052064\n",
            "Training loss: 1.508151113986969\n",
            "Training loss: 1.50770067691803\n",
            "Training loss: 1.5074122309684754\n",
            "Training loss: 1.507261905670166\n",
            "Training loss: 1.507117829322815\n",
            "Training loss: 1.5061391115188598\n",
            "Training loss: 1.505526580810547\n",
            "Training loss: 1.5052174401283265\n",
            "Training loss: 1.5050672936439513\n",
            "Training loss: 1.5047561454772949\n",
            "Training loss: 1.5051380324363708\n",
            "Training loss: 1.5043332147598267\n",
            "Training loss: 1.5013388562202454\n"
          ]
        }
      ]
    },
    {
      "cell_type": "markdown",
      "source": [
        "### Inference"
      ],
      "metadata": {
        "id": "4T-FjbbldV4c"
      }
    },
    {
      "cell_type": "code",
      "source": [
        "han.eval()  # Set the model to evaluation mode\n",
        "all_predictions = []\n",
        "all_labels = []\n",
        "\n",
        "with torch.no_grad():  # Disable gradient computation\n",
        "    for batch in valid_loader:\n",
        "        documents, labels = batch['document'], batch['label']\n",
        "        outputs = han(documents)\n",
        "\n",
        "        # Get the predicted labels\n",
        "        predicted_labels = torch.argmax(outputs, dim=1)\n",
        "\n",
        "        all_predictions.extend(predicted_labels)\n",
        "        all_labels.extend(labels)\n",
        "\n",
        "# Here you can add code to evaluate the predictions\n",
        "# For example, calculating accuracy or other metrics\n",
        "\n",
        "fixed_all_labels = [int(label)-1 for label in all_labels]\n",
        "accuracy = sum(1 for x, y in zip(all_predictions, fixed_all_labels) if x == y) / len(all_labels)\n",
        "print(f'Test accuracy: {accuracy}')"
      ],
      "metadata": {
        "id": "zyqP6YS5dY-U",
        "colab": {
          "base_uri": "https://localhost:8080/"
        },
        "outputId": "3f161681-e74e-4e46-ab29-722b80b5b363"
      },
      "execution_count": 28,
      "outputs": [
        {
          "output_type": "stream",
          "name": "stdout",
          "text": [
            "Test accuracy: 0.272\n"
          ]
        }
      ]
    },
    {
      "cell_type": "markdown",
      "source": [
        "### experimenting"
      ],
      "metadata": {
        "id": "PFbOlFWYi7sZ"
      }
    },
    {
      "cell_type": "code",
      "source": [
        "m = nn.Linear(20, 30)\n",
        "input = torch.randn(4,5,128, 20)\n",
        "output = m(input)\n",
        "print(output.size())\n"
      ],
      "metadata": {
        "colab": {
          "base_uri": "https://localhost:8080/"
        },
        "id": "NASgOODyi_3Y",
        "outputId": "d85f019b-1cc2-4de9-c18f-76f605884102"
      },
      "execution_count": null,
      "outputs": [
        {
          "output_type": "stream",
          "name": "stdout",
          "text": [
            "torch.Size([4, 5, 128, 30])\n"
          ]
        }
      ]
    },
    {
      "cell_type": "code",
      "source": [
        "rnn = nn.GRU(10, 20, batch_first=True, bidirectional=True)\n",
        "input = torch.randn(5, 3, 10)   # (batch_size, seq_len, input_size)\n",
        "h0 = torch.randn(2, 5, 20)   # (2 * num_layers, batch_size, hidden_size)\n",
        "output, hn = rnn(input, h0)  # (batch_size, seq_len, 2*hidden_size)   (2, batch_size, hidden_size)\n"
      ],
      "metadata": {
        "id": "A3aFRBe5q4D0"
      },
      "execution_count": null,
      "outputs": []
    },
    {
      "cell_type": "code",
      "source": [
        "print(output.size(), hn.size())"
      ],
      "metadata": {
        "colab": {
          "base_uri": "https://localhost:8080/"
        },
        "id": "PBq6DQDIuXZ8",
        "outputId": "4d1f6361-df7d-472a-b2ed-cf710176564a"
      },
      "execution_count": null,
      "outputs": [
        {
          "output_type": "stream",
          "name": "stdout",
          "text": [
            "torch.Size([5, 3, 40]) torch.Size([2, 5, 20])\n"
          ]
        }
      ]
    },
    {
      "cell_type": "code",
      "source": [
        "m = nn.Softmax(dim=1)\n",
        "input = torch.randn(2, 3)\n",
        "output = m(input)\n",
        "print(input, output)"
      ],
      "metadata": {
        "colab": {
          "base_uri": "https://localhost:8080/"
        },
        "id": "P6XP9zR6NLTt",
        "outputId": "e64aab60-a9d6-4709-a63b-c13885579b9e"
      },
      "execution_count": null,
      "outputs": [
        {
          "output_type": "stream",
          "name": "stdout",
          "text": [
            "tensor([[-0.4979,  0.2947,  0.6058],\n",
            "        [-0.0335,  1.1921, -0.1068]]) tensor([[0.1607, 0.3549, 0.4844],\n",
            "        [0.1874, 0.6384, 0.1742]])\n"
          ]
        }
      ]
    },
    {
      "cell_type": "code",
      "source": [
        "a = torch.tensor([[1,2,3], [2,3,1]])\n",
        "print(torch.argmax(a, dim=1))"
      ],
      "metadata": {
        "colab": {
          "base_uri": "https://localhost:8080/"
        },
        "id": "68c7E5-OpdMp",
        "outputId": "2281b8b7-e1b7-4dba-e9c2-85e687b0ac6c"
      },
      "execution_count": null,
      "outputs": [
        {
          "output_type": "stream",
          "name": "stdout",
          "text": [
            "tensor([2, 1])\n"
          ]
        }
      ]
    },
    {
      "cell_type": "markdown",
      "source": [
        "### save model + create checkpoints"
      ],
      "metadata": {
        "id": "p3-kAjVTAdLz"
      }
    },
    {
      "cell_type": "code",
      "source": [
        "save_path = 'final_model.pth'\n",
        "torch.save({\n",
        "    'model_state_dict': han.state_dict(),\n",
        "    'loss': 2.102539749622345\n",
        "}, save_path)"
      ],
      "metadata": {
        "id": "PMVNJW3rAgiv"
      },
      "execution_count": null,
      "outputs": []
    },
    {
      "cell_type": "code",
      "source": [
        "from google.colab import drive\n",
        "drive.mount('/content/drive')\n",
        "\n",
        "# Giả sử han là mô hình của bạn và final_loss là giá trị loss cuối cùng\n",
        "final_loss = 2.239507790534727  # Giả sử đây là giá trị loss cuối cùng\n",
        "\n",
        "# Đường dẫn lưu file trên Google Drive\n",
        "drive_save_path = '/content/drive/My Drive/final_model.pth'\n",
        "\n",
        "# Lưu trọng số mô hình và giá trị loss vào Google Drive\n",
        "torch.save({\n",
        "    'model_state_dict': han.state_dict(),\n",
        "    'loss': final_loss\n",
        "}, drive_save_path)\n",
        "\n",
        "print(f'Model weights and final loss saved to {drive_save_path}')\n",
        "\n",
        "# Khởi tạo lại mô hình của bạn (phải giống cấu trúc mô hình đã lưu)\n",
        "\n",
        "# Đường dẫn đến file đã lưu trên Google Drive\n",
        "drive_save_path = '/content/drive/My Drive/final_model.pth'\n",
        "\n",
        "# Tải trọng số mô hình và giá trị loss từ Google Drive\n",
        "checkpoint = torch.load(drive_save_path)\n",
        "han.load_state_dict(checkpoint['model_state_dict'])\n",
        "final_loss = checkpoint['loss']\n",
        "\n",
        "print(f'Model weights loaded and final loss is {final_loss}')\n"
      ],
      "metadata": {
        "colab": {
          "base_uri": "https://localhost:8080/"
        },
        "id": "bTAJ3B5cBAA7",
        "outputId": "ff82897b-8eef-4e33-adf3-a8ed4d4c05b2"
      },
      "execution_count": null,
      "outputs": [
        {
          "output_type": "stream",
          "name": "stdout",
          "text": [
            "Mounted at /content/drive\n",
            "Model weights and final loss saved to /content/drive/My Drive/final_model.pth\n",
            "Model weights loaded and final loss is 2.239507790534727\n"
          ]
        }
      ]
    }
  ],
  "metadata": {
    "colab": {
      "provenance": [],
      "collapsed_sections": [
        "_40eDp4NFKMh"
      ],
      "gpuType": "A100",
      "include_colab_link": true
    },
    "kernelspec": {
      "display_name": "Python 3",
      "name": "python3"
    },
    "language_info": {
      "name": "python"
    },
    "accelerator": "GPU"
  },
  "nbformat": 4,
  "nbformat_minor": 0
}